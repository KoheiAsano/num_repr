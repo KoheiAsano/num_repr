{
 "cells": [
  {
   "cell_type": "code",
   "execution_count": 2,
   "metadata": {},
   "outputs": [],
   "source": [
    "from sympy import symbols\n",
    "from sympy.parsing.sympy_parser import parse_expr\n",
    "x = symbols('x')"
   ]
  },
  {
   "cell_type": "code",
   "execution_count": 3,
   "metadata": {},
   "outputs": [
    {
     "name": "stdin",
     "output_type": "stream",
     "text": [
      " x_1\n"
     ]
    }
   ],
   "source": [
    "# x**3 - 10*x**2 - 75*x + 100\n",
    "f = parse_expr(str(input()))\n",
    "print(f)"
   ]
  },
  {
   "cell_type": "code",
   "execution_count": 3,
   "metadata": {},
   "outputs": [],
   "source": [
    "# Newton_method (1-variable) f:function(sympy expression), X0:initialvalue, N:iteration num\n",
    "def newton_method(f, X0, N):\n",
    "    X = X0\n",
    "    h = 1/f.diff(x)\n",
    "    for _ in range(N):\n",
    "        Xn = X - f.subs(x, X)*h.subs(x, X)\n",
    "        if X == Xn:\n",
    "            break\n",
    "        X = Xn\n",
    "    return (X, _)"
   ]
  },
  {
   "cell_type": "code",
   "execution_count": 4,
   "metadata": {},
   "outputs": [
    {
     "data": {
      "text/plain": [
       "(-5.82446159829929, 6)"
      ]
     },
     "execution_count": 4,
     "metadata": {},
     "output_type": "execute_result"
    }
   ],
   "source": [
    "X0 = -10.0 # initial value\n",
    "N = 100 # iteration num\n",
    "\n",
    "\n",
    "newton_method(f,X0,N)"
   ]
  },
  {
   "cell_type": "code",
   "execution_count": 5,
   "metadata": {},
   "outputs": [],
   "source": [
    "# reverse linear interpolation \n",
    "def reverse_linear_interpolation(f, X0, N):\n",
    "    h = (x-X0)/(f-f.subs(x, X0))\n",
    "    X = X0-f.subs(x, X0) # inital substitution\n",
    "    for _ in range(N):\n",
    "        Xn = X - f.subs(x, X)*h.subs(x, X)\n",
    "        if X == Xn:\n",
    "            break\n",
    "        X = Xn\n",
    "        print(X)\n",
    "    return (X, _)"
   ]
  },
  {
   "cell_type": "code",
   "execution_count": 6,
   "metadata": {},
   "outputs": [
    {
     "name": "stdout",
     "output_type": "stream",
     "text": [
      "-6.99438262936158\n",
      "-6.01806149857180\n",
      "-5.86042451942998\n",
      "-5.83127546663162\n",
      "-5.82575739431682\n",
      "-5.82470819302385\n",
      "-5.82450853243122\n",
      "-5.82447053145309\n",
      "-5.82446329858901\n",
      "-5.82446192192383\n",
      "-5.82446165989636\n",
      "-5.82446161002337\n",
      "-5.82446160053079\n",
      "-5.82446159872402\n",
      "-5.82446159838013\n",
      "-5.82446159831468\n",
      "-5.82446159830222\n",
      "-5.82446159829985\n",
      "-5.82446159829940\n",
      "-5.82446159829931\n",
      "-5.82446159829929\n",
      "-5.82446159829929\n"
     ]
    },
    {
     "data": {
      "text/plain": [
       "(-5.82446159829929, 22)"
      ]
     },
     "execution_count": 6,
     "metadata": {},
     "output_type": "execute_result"
    }
   ],
   "source": [
    "# f = parse_expr(str(input()))\n",
    "\n",
    "X0 = -7.0 # initial value\n",
    "N = 100 # iteration num\n",
    "\n",
    "\n",
    "reverse_linear_interpolation(f,X0,N)"
   ]
  },
  {
   "cell_type": "code",
   "execution_count": 47,
   "metadata": {},
   "outputs": [],
   "source": [
    "# von_mises method\n",
    "def von_mises(f, X0, N):\n",
    "    X = X0\n",
    "    h = 1/f.diff(x)\n",
    "    for _ in range(N):\n",
    "        Xn = X - f.subs(x, X)*h.subs(x, X0)\n",
    "        if X == Xn:\n",
    "            break\n",
    "        X = Xn\n",
    "        print(X)\n",
    "    return (X, _)"
   ]
  },
  {
   "cell_type": "code",
   "execution_count": 48,
   "metadata": {},
   "outputs": [
    {
     "name": "stdout",
     "output_type": "stream",
     "text": [
      "-6.01886792452830\n",
      "-5.88256241919852\n",
      "-5.84286149996401\n",
      "-5.83038357741583\n",
      "-5.82637716237578\n",
      "-5.82508221466329\n",
      "-5.82466277360685\n",
      "-5.82452682102529\n",
      "-5.82448274520452\n",
      "-5.82446845479711\n",
      "-5.82446382140619\n",
      "-5.82446231910655\n",
      "-5.82446183200979\n",
      "-5.82446167407629\n",
      "-5.82446162286880\n",
      "-5.82446160626557\n",
      "-5.82446160088223\n",
      "-5.82446159913677\n",
      "-5.82446159857083\n",
      "-5.82446159838733\n",
      "-5.82446159832784\n",
      "-5.82446159830855\n",
      "-5.82446159830229\n",
      "-5.82446159830026\n",
      "-5.82446159829961\n",
      "-5.82446159829939\n",
      "-5.82446159829932\n",
      "-5.82446159829930\n",
      "-5.82446159829929\n",
      "-5.82446159829929\n",
      "-5.82446159829929\n"
     ]
    },
    {
     "data": {
      "text/plain": [
       "(-5.82446159829929, 31)"
      ]
     },
     "execution_count": 48,
     "metadata": {},
     "output_type": "execute_result"
    }
   ],
   "source": [
    "# f = parse_expr(str(input()))\n",
    "\n",
    "X0 = -7.0 # initial value\n",
    "N = 100 # iteration num\n",
    "\n",
    "\n",
    "von_mises(f,X0,N)"
   ]
  },
  {
   "cell_type": "code",
   "execution_count": 59,
   "metadata": {},
   "outputs": [],
   "source": [
    "# asano_method hを適当に設定する\n",
    "def asano_method(f, X0, N):\n",
    "    X = X0\n",
    "    h = 1/(4*f+3)\n",
    "    for _ in range(N):\n",
    "        Xn = X - f.subs(x, X)*h.subs(x, X)\n",
    "        if X == Xn:\n",
    "            break\n",
    "        X = Xn\n",
    "        print(X)\n",
    "    return (X, _)"
   ]
  },
  {
   "cell_type": "code",
   "execution_count": 60,
   "metadata": {},
   "outputs": [
    {
     "name": "stdout",
     "output_type": "stream",
     "text": [
      "-7.25090470446321\n",
      "-7.50161923749879\n",
      "-7.75220240536264\n",
      "-8.00268982021417\n",
      "-8.25310464751243\n",
      "-8.50346277654883\n",
      "-8.75377556068909\n",
      "-9.00405138029195\n",
      "-9.25429658715566\n",
      "-9.50451610252206\n",
      "-9.75471381061147\n",
      "-10.0048928261308\n",
      "-10.2550556812057\n",
      "-10.5052044591564\n",
      "-10.7553408922395\n",
      "-11.0054664343786\n",
      "-11.2555823161636\n",
      "-11.5056895870488\n",
      "-11.7557891481478\n",
      "-12.0058817780235\n",
      "-12.2559681531823\n",
      "-12.5060488645212\n",
      "-12.7561244306415\n",
      "-13.0061953087160\n",
      "-13.2562619034241\n",
      "-13.5063245743506\n",
      "-13.7563836421516\n",
      "-14.0064393937228\n",
      "-14.2564920865572\n",
      "-14.5065419524368\n",
      "-14.7565892005772\n",
      "-15.0066340203171\n",
      "-15.2566765834288\n",
      "-15.5067170461113\n",
      "-15.7567555507167\n",
      "-16.0067922272499\n",
      "-16.2568271946767\n",
      "-16.5068605620680\n",
      "-16.7568924296045\n",
      "-17.0069228894604\n",
      "-17.2569520265837\n",
      "-17.5069799193867\n",
      "-17.7570066403586\n",
      "-18.0070322566108\n",
      "-18.2570568303620\n",
      "-18.5070804193729\n",
      "-18.7571030773347\n",
      "-19.0071248542177\n",
      "-19.2571457965846\n",
      "-19.5071659478737\n",
      "-19.7571853486527\n",
      "-20.0072040368500\n",
      "-20.2572220479625\n",
      "-20.5072394152453\n",
      "-20.7572561698835\n",
      "-21.0072723411481\n",
      "-21.2572879565393\n",
      "-21.5073030419156\n",
      "-21.7573176216132\n",
      "-22.0073317185543\n",
      "-22.2573453543469\n",
      "-22.5073585493759\n",
      "-22.7573713228871\n",
      "-23.0073836930641\n",
      "-23.2573956770994\n",
      "-23.5074072912601\n",
      "-23.7574185509475\n",
      "-24.0074294707534\n",
      "-24.2574400645115\n",
      "-24.5074503453447\n",
      "-24.7574603257099\n",
      "-25.0074700174382\n",
      "-25.2574794317732\n",
      "-25.5074885794066\n",
      "-25.7574974705102\n",
      "-26.0075061147670\n",
      "-26.2575145213996\n",
      "-26.5075226991963\n",
      "-26.7575306565360\n",
      "-27.0075384014113\n",
      "-27.2575459414498\n",
      "-27.5075532839345\n",
      "-27.7575604358222\n",
      "-28.0075674037615\n",
      "-28.2575741941093\n",
      "-28.5075808129459\n",
      "-28.7575872660896\n",
      "-29.0075935591108\n",
      "-29.2575996973440\n",
      "-29.5076056859005\n",
      "-29.7576115296792\n",
      "-30.0076172333774\n",
      "-30.2576228015010\n",
      "-30.5076282383736\n",
      "-30.7576335481457\n",
      "-31.0076387348025\n",
      "-31.2576438021727\n",
      "-31.5076487539349\n",
      "-31.7576535936257\n",
      "-32.0076583246455\n"
     ]
    },
    {
     "data": {
      "text/plain": [
       "(-32.0076583246455, 99)"
      ]
     },
     "execution_count": 60,
     "metadata": {},
     "output_type": "execute_result"
    }
   ],
   "source": [
    "# f = parse_expr(str(input()))\n",
    "\n",
    "X0 = -7.0 # initial value\n",
    "N = 100 # iteration num\n",
    "\n",
    "\n",
    "asano_method(f,X0,N)"
   ]
  },
  {
   "cell_type": "code",
   "execution_count": 3,
   "metadata": {},
   "outputs": [
    {
     "name": "stdin",
     "output_type": "stream",
     "text": [
      " x**3-3*x*y**2+(1-b)*(x**2-y**2)-2*(1-a)*x*y+(a-b)*x-(ab-a-b)*y-a*b 3*y*x**2-y**3+(1-a)*(x**2-y**2)+2*(1-b)*x*y+(ab-a-b)*x+(a-b)*y+a*b\n"
     ]
    },
    {
     "data": {
      "text/plain": [
       "(-a*b + x**3 - 3*x*y**2 - x*y*(2 - 2*a) + x*(a - b) - y*(-a + ab - b) + (1 - b)*(x**2 - y**2),\n",
       " a*b + 3*x**2*y + x*y*(2 - 2*b) + x*(-a + ab - b) - y**3 + y*(a - b) + (1 - a)*(x**2 - y**2))"
      ]
     },
     "execution_count": 3,
     "metadata": {},
     "output_type": "execute_result"
    }
   ],
   "source": [
    "import numpy as np\n",
    "# 2*x+log(x)-y**2 x**2-x*y-x+1 \n",
    "x, y, a, b = symbols('x y a b')\n",
    "f = np.array([parse_expr(s) for s in input().split()])\n",
    "f[0],f[1]\n",
    "# x**3-3*x*y**2+(1-b)*(x**2-y**2)-2*(1-a)*x*y+(a-b)*x-(ab-a-b)*y-a*b 3*y*x**2-y**3+(1-a)*(x**2-y**2)+2*(1-b)*x*y+(ab-a-b)*x+(a-b)*y+a*b"
   ]
  },
  {
   "cell_type": "code",
   "execution_count": 11,
   "metadata": {},
   "outputs": [
    {
     "name": "stdout",
     "output_type": "stream",
     "text": [
      "a - b + 3*x**2 + x*(2 - 2*b) - 3*y**2 - 2*y*(1 - a)\n",
      "a - b + 3*x**2 + 2*x*(1 - b) - 3*y**2 - y*(2 - 2*a)\n",
      "-a + ab - b + 6*x*y + x*(2 - 2*a) + 2*y*(1 - b)\n",
      "a - ab + b - 6*x*y - 2*x*(1 - a) - y*(2 - 2*b)\n"
     ]
    }
   ],
   "source": [
    "from sympy import simplify \n",
    "J = np.array([[f[i].diff(x) for i in range(2)],\n",
    "              [f[i].diff(y) for i in range(2)]])\n",
    "# inv 00\n",
    "print(J[1][1])\n",
    "# inv 11\n",
    "print(J[0][0])\n",
    "# inv 01\n",
    "print(-J[1][0])\n",
    "# inv 10\n",
    "print(-J[0][1])\n",
    "# print(simplify(J[0][0]*J[1][1] - J[0][1]*J[1][0]))"
   ]
  },
  {
   "cell_type": "code",
   "execution_count": 4,
   "metadata": {},
   "outputs": [],
   "source": [
    "# Newton_method (two-variable, two-equation) f:function(sympy expression), X0:initialvalue, N:iteration num\n",
    "def newton_method_2d(f, X0, Y0, N):\n",
    "    XY = np.array([X0,Y0])\n",
    "    J = np.transpose(np.array([[f[i].diff(x) for i in range(2)],\n",
    "              [f[i].diff(y) for i in range(2)]]))\n",
    "    for _ in range(N):\n",
    "        J_inv = np.linalg.inv([[float(J[j][i].subs([(x, XY[0]), (y, XY[1])])) for i in range(2)] for j in range(2)])\n",
    "        XY = XY - np.dot(J_inv, np.array([f[i].subs([(x, XY[0]), (y, XY[1])]) for i in range(2)]))\n",
    "        print(XY)\n",
    "    return (XY, _)"
   ]
  },
  {
   "cell_type": "code",
   "execution_count": 5,
   "metadata": {
    "scrolled": true
   },
   "outputs": [
    {
     "name": "stdout",
     "output_type": "stream",
     "text": [
      "[1.00000000000000 -1.00000000000000]\n",
      "[3.40000000000000 -2.60000000000000]\n",
      "[3.42014046665767 -1.89038077530798]\n",
      "[3.75835971648908 -1.96225836713516]\n",
      "[3.75398941716535 -1.95724901930626]\n",
      "[3.75399640281262 -1.95724648053571]\n",
      "[3.75399640282562 -1.95724648054115]\n",
      "[3.75399640282562 -1.95724648054115]\n",
      "[3.75399640282562 -1.95724648054115]\n",
      "[3.75399640282562 -1.95724648054115]\n"
     ]
    },
    {
     "data": {
      "text/plain": [
       "array([3.75399640282562, -1.95724648054115], dtype=object)"
      ]
     },
     "execution_count": 5,
     "metadata": {},
     "output_type": "execute_result"
    }
   ],
   "source": [
    "X0, Y0 = 1, 1\n",
    "N = 10\n",
    "app = newton_method_2d(f, X0, Y0, N)[0]\n",
    "app"
   ]
  },
  {
   "cell_type": "code",
   "execution_count": 6,
   "metadata": {},
   "outputs": [
    {
     "data": {
      "text/latex": [
       "$\\displaystyle 0$"
      ],
      "text/plain": [
       "0"
      ]
     },
     "execution_count": 6,
     "metadata": {},
     "output_type": "execute_result"
    }
   ],
   "source": [
    "f[0].subs([(x,app[0]), (y, app[1])])"
   ]
  },
  {
   "cell_type": "code",
   "execution_count": 7,
   "metadata": {},
   "outputs": [
    {
     "data": {
      "text/latex": [
       "$\\displaystyle 0$"
      ],
      "text/plain": [
       "0"
      ]
     },
     "execution_count": 7,
     "metadata": {},
     "output_type": "execute_result"
    }
   ],
   "source": [
    "f[1].subs([(x,app[0]), (y, app[1])])"
   ]
  }
 ],
 "metadata": {
  "kernelspec": {
   "display_name": "Python 3",
   "language": "python",
   "name": "python3"
  },
  "language_info": {
   "codemirror_mode": {
    "name": "ipython",
    "version": 3
   },
   "file_extension": ".py",
   "mimetype": "text/x-python",
   "name": "python",
   "nbconvert_exporter": "python",
   "pygments_lexer": "ipython3",
   "version": "3.7.0"
  }
 },
 "nbformat": 4,
 "nbformat_minor": 2
}
