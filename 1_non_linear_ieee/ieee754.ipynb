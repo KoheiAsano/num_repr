{
 "cells": [
  {
   "cell_type": "code",
   "execution_count": null,
   "metadata": {},
   "outputs": [],
   "source": [
    "def debug(*args):\n",
    "    names = {id(v):k for k,v in currentframe().f_back.f_locals.items()}\n",
    "    print(', '.join(names.get(id(arg),'???')+' = '+repr(arg) for arg in args), file=stderr)\n",
    "    return\n",
    "\n",
    "class ieee754_64:\n",
    "    # インプットは全部bit文字列\n",
    "    def __init__(self, s : str, e : str, m : str):\n",
    "        self.sign = 1 if s == 0 else -1\n",
    "        self.exponent = 2**(int(e, 2)-127)\n",
    "        tmpman = 0\n",
    "        pow = 0.5\n",
    "        for i in range(1, 24):\n",
    "            tmpman += int(m[i-1])*pow\n",
    "            pow *= 0.5\n",
    "        self.mantissa = 1 + tmpman\n",
    "\n",
    "    def __str__(self):\n",
    "        return str(self.sign*self.exponent*self.mantissa)\n",
    "\n",
    "    def __repr__(self):\n",
    "        return str(self.sign*self.exponent*self.mantissa)\n",
    "\n",
    "\n",
    "s = '0'\n",
    "e = '10000010'\n",
    "m = '11010000000000000000000'\n",
    "print(len(s), len(e), len(m))\n",
    "print(ieee754_64(s, e, m))\n"
   ]
  }
 ],
 "metadata": {
  "kernelspec": {
   "display_name": "Python 3",
   "language": "python",
   "name": "python3"
  },
  "language_info": {
   "codemirror_mode": {
    "name": "ipython",
    "version": 3
   },
   "file_extension": ".py",
   "mimetype": "text/x-python",
   "name": "python",
   "nbconvert_exporter": "python",
   "pygments_lexer": "ipython3",
   "version": "3.7.0"
  }
 },
 "nbformat": 4,
 "nbformat_minor": 2
}
