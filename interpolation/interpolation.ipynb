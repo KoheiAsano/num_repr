{
 "cells": [
  {
   "cell_type": "code",
   "execution_count": 115,
   "metadata": {},
   "outputs": [],
   "source": [
    "from sympy import symbols\n",
    "x = symbols('x')"
   ]
  },
  {
   "cell_type": "markdown",
   "metadata": {},
   "source": [
    "```1/(1+25*x**2)```"
   ]
  },
  {
   "cell_type": "code",
   "execution_count": 117,
   "metadata": {},
   "outputs": [],
   "source": [
    "def f(xi):\n",
    "    return 1/(1+25*xi**2)\n",
    "#     return float(expr.subs(x, xi))\n"
   ]
  },
  {
   "cell_type": "code",
   "execution_count": 172,
   "metadata": {},
   "outputs": [
    {
     "name": "stdout",
     "output_type": "stream",
     "text": [
      "-3 0.004424778761061947\n",
      "-2 0.009900990099009901\n",
      "-1 0.038461538461538464\n",
      "0 1.0\n",
      "1 0.038461538461538464\n",
      "2 0.009900990099009901\n",
      "3 0.004424778761061947\n"
     ]
    }
   ],
   "source": [
    "xs = [-3, -2, -1, 0, 1, 2, 3]#list(map(int, input().split()))\n",
    "ys = []\n",
    "for xi in xs:\n",
    "    print(xi, f(xi))\n",
    "    ys.append(f(xi))"
   ]
  },
  {
   "cell_type": "code",
   "execution_count": 181,
   "metadata": {},
   "outputs": [],
   "source": [
    "# term L : input points, index\n",
    "def term_L(xs, i):\n",
    "    N = len(xs)\n",
    "    L = 1\n",
    "    for j in range(N):\n",
    "        if i != j:\n",
    "            L *= x-xs[j]\n",
    "    return L"
   ]
  },
  {
   "cell_type": "code",
   "execution_count": 182,
   "metadata": {},
   "outputs": [],
   "source": [
    "# Lagrange Polynomial\n",
    "def lagrange(xs, ys):\n",
    "    N = len(xs)\n",
    "    p = 0\n",
    "    for i in range(N):\n",
    "        L = term_L(xs, i)\n",
    "        p += ys[i]*L/float(L.subs(x,xs[i]))\n",
    "    return p"
   ]
  },
  {
   "cell_type": "code",
   "execution_count": 174,
   "metadata": {},
   "outputs": [
    {
     "data": {
      "text/latex": [
       "$\\displaystyle 6.14552605703048 \\cdot 10^{-6} x \\left(x - 3\\right) \\left(x - 2\\right) \\left(x - 1\\right) \\left(x + 1\\right) \\left(x + 2\\right) - 8.25082508250825 \\cdot 10^{-5} x \\left(x - 3\\right) \\left(x - 2\\right) \\left(x - 1\\right) \\left(x + 1\\right) \\left(x + 3\\right) + 0.000801282051282051 x \\left(x - 3\\right) \\left(x - 2\\right) \\left(x - 1\\right) \\left(x + 2\\right) \\left(x + 3\\right) + 0.000801282051282051 x \\left(x - 3\\right) \\left(x - 2\\right) \\left(x + 1\\right) \\left(x + 2\\right) \\left(x + 3\\right) - 8.25082508250825 \\cdot 10^{-5} x \\left(x - 3\\right) \\left(x - 1\\right) \\left(x + 1\\right) \\left(x + 2\\right) \\left(x + 3\\right) + 6.14552605703048 \\cdot 10^{-6} x \\left(x - 2\\right) \\left(x - 1\\right) \\left(x + 1\\right) \\left(x + 2\\right) \\left(x + 3\\right) - 0.0277777777777778 \\left(x - 3\\right) \\left(x - 2\\right) \\left(x - 1\\right) \\left(x + 1\\right) \\left(x + 2\\right) \\left(x + 3\\right)$"
      ],
      "text/plain": [
       "6.14552605703048e-6*x*(x - 3)*(x - 2)*(x - 1)*(x + 1)*(x + 2) - 8.25082508250825e-5*x*(x - 3)*(x - 2)*(x - 1)*(x + 1)*(x + 3) + 0.000801282051282051*x*(x - 3)*(x - 2)*(x - 1)*(x + 2)*(x + 3) + 0.000801282051282051*x*(x - 3)*(x - 2)*(x + 1)*(x + 2)*(x + 3) - 8.25082508250825e-5*x*(x - 3)*(x - 1)*(x + 1)*(x + 2)*(x + 3) + 6.14552605703048e-6*x*(x - 2)*(x - 1)*(x + 1)*(x + 2)*(x + 3) - 0.0277777777777778*(x - 3)*(x - 2)*(x - 1)*(x + 1)*(x + 2)*(x + 3)"
      ]
     },
     "execution_count": 174,
     "metadata": {},
     "output_type": "execute_result"
    }
   ],
   "source": [
    "pn = lagrange(xs, ys)\n",
    "pn"
   ]
  },
  {
   "cell_type": "code",
   "execution_count": 175,
   "metadata": {},
   "outputs": [
    {
     "data": {
      "text/plain": [
       "Text(0, 0.5, 'y')"
      ]
     },
     "execution_count": 175,
     "metadata": {},
     "output_type": "execute_result"
    },
    {
     "data": {
      "image/png": "[encoded data removed]",
      "text/plain": [
       "<Figure size 432x288 with 1 Axes>"
      ]
     },
     "metadata": {
      "needs_background": "light"
     },
     "output_type": "display_data"
    }
   ],
   "source": [
    "# plotting, Runge\n",
    "import matplotlib.pyplot as plt\n",
    "import numpy as np\n",
    "t = np.arange(-3, 3.01, 0.01)\n",
    "ps = [float(pn.subs(x,tt)) for tt in t]\n",
    "plt.plot(t,f(t), 'b')\n",
    "plt.plot(t, ps, 'r')\n",
    "plt.xlabel('x')\n",
    "plt.ylabel('y')"
   ]
  },
  {
   "cell_type": "code",
   "execution_count": 176,
   "metadata": {},
   "outputs": [
    {
     "name": "stdout",
     "output_type": "stream",
     "text": [
      "0.001597444089456869\n",
      "0.003779441852027292\n",
      "-0.0005669162778040938\n",
      "0.0\n"
     ]
    }
   ],
   "source": [
    "# f[x1, x2, ... , xn] divided differences\n",
    "def div_diff(f, xs):\n",
    "    if len(xs) == 1:\n",
    "        return f(xs[0])\n",
    "    else:\n",
    "        return (div_diff(f, xs[1:])-div_diff(f, xs[:-1]))/(xs[-1]-xs[0])\n",
    "l = [-5, -5/3, 5/3, 5]\n",
    "# f = lambda x:1/(1+2*x**2)\n",
    "for i in range(1, len(l)+1):\n",
    "    print(div_diff(f, l[:i]))"
   ]
  },
  {
   "cell_type": "code",
   "execution_count": 177,
   "metadata": {},
   "outputs": [],
   "source": [
    "# Newton Interpolation\n",
    "def newton(xs, ys):\n",
    "    if len(xs) == 1:\n",
    "        print(xs)\n",
    "        return div_diff(f, xs)\n",
    "    else:\n",
    "        term = term_L(xs, len(xs)-1)\n",
    "        term *= div_diff(f, xs)\n",
    "        print(xs)\n",
    "        return newton(xs[:-1], ys[:-1]) + term"
   ]
  },
  {
   "cell_type": "code",
   "execution_count": 178,
   "metadata": {},
   "outputs": [
    {
     "data": {
      "text/plain": [
       "0.004424778761061947"
      ]
     },
     "execution_count": 178,
     "metadata": {},
     "output_type": "execute_result"
    }
   ],
   "source": [
    "f(xs[0])\n",
    "div_diff(f, xs[:1])\n",
    "div_diff(f, [-3])"
   ]
  },
  {
   "cell_type": "code",
   "execution_count": 179,
   "metadata": {},
   "outputs": [
    {
     "name": "stdout",
     "output_type": "stream",
     "text": [
      "[-3, -2, -1, 0, 1, 2, 3]\n",
      "[-3, -2, -1, 0, 1, 2]\n",
      "[-3, -2, -1, 0, 1]\n",
      "[-3, -2, -1, 0]\n",
      "[-3, -2, -1]\n",
      "[-3, -2]\n",
      "[-3]\n"
     ]
    },
    {
     "data": {
      "text/latex": [
       "$\\displaystyle - 0.0263279391247498 x \\left(x - 2\\right) \\left(x - 1\\right) \\left(x + 1\\right) \\left(x + 2\\right) \\left(x + 3\\right) + 0.0789838173742493 x \\left(x - 1\\right) \\left(x + 1\\right) \\left(x + 2\\right) \\left(x + 3\\right) - 0.156914517183509 x \\left(x + 1\\right) \\left(x + 2\\right) \\left(x + 3\\right) + 0.00547621133794795 x + 0.151648929358559 \\left(x + 1\\right) \\left(x + 2\\right) \\left(x + 3\\right) + 0.0115421685122903 \\left(x + 2\\right) \\left(x + 3\\right) + 0.0208534127749058$"
      ],
      "text/plain": [
       "-0.0263279391247498*x*(x - 2)*(x - 1)*(x + 1)*(x + 2)*(x + 3) + 0.0789838173742493*x*(x - 1)*(x + 1)*(x + 2)*(x + 3) - 0.156914517183509*x*(x + 1)*(x + 2)*(x + 3) + 0.00547621133794795*x + 0.151648929358559*(x + 1)*(x + 2)*(x + 3) + 0.0115421685122903*(x + 2)*(x + 3) + 0.0208534127749058"
      ]
     },
     "execution_count": 179,
     "metadata": {},
     "output_type": "execute_result"
    }
   ],
   "source": [
    "pn = newton(xs, ys)\n",
    "pn"
   ]
  },
  {
   "cell_type": "code",
   "execution_count": 180,
   "metadata": {},
   "outputs": [
    {
     "data": {
      "text/plain": [
       "Text(0, 0.5, 'y')"
      ]
     },
     "execution_count": 180,
     "metadata": {},
     "output_type": "execute_result"
    },
    {
     "data": {
      "image/png": "[encoded data removed]",
      "text/plain": [
       "<Figure size 432x288 with 1 Axes>"
      ]
     },
     "metadata": {
      "needs_background": "light"
     },
     "output_type": "display_data"
    }
   ],
   "source": [
    "# plotting, Runge\n",
    "t = np.arange(-3, 3.01, 0.01)\n",
    "ps = [float(pn.subs(x,tt)) for tt in t]\n",
    "plt.plot(t,f(t), 'b')\n",
    "plt.plot(t, ps, 'r')\n",
    "plt.xlabel('x')\n",
    "plt.ylabel('y')"
   ]
  },
  {
   "cell_type": "code",
   "execution_count": 218,
   "metadata": {},
   "outputs": [],
   "source": [
    "# Hermite Interpolation\n",
    "def q(xs, i):\n",
    "    return term_L(xs,i)**2\n",
    "def h(xs, i):\n",
    "    return q(xs,i)/q(xs,i).subs(x,xs[i])*(1 - (x-xs[i])*q(xs,i).diff(x).subs(x,xs[i])/q(xs,i).subs(x,xs[i]))\n",
    "def g(xs, i):\n",
    "    return q(xs,i)/q(xs,i).subs(x,xs[i])*(x-xs[i])\n",
    "l = [0,1,2]\n",
    "lv = [0,1,0]\n",
    "lp = [1,0,-1]"
   ]
  },
  {
   "cell_type": "code",
   "execution_count": 213,
   "metadata": {},
   "outputs": [
    {
     "data": {
      "text/latex": [
       "$\\displaystyle 12$"
      ],
      "text/plain": [
       "12"
      ]
     },
     "execution_count": 213,
     "metadata": {},
     "output_type": "execute_result"
    }
   ],
   "source": [
    "q(l,2).diff(x).subs(x,2)"
   ]
  },
  {
   "cell_type": "code",
   "execution_count": 215,
   "metadata": {},
   "outputs": [
    {
     "data": {
      "text/latex": [
       "$\\displaystyle x^{2} \\left(x - 2\\right)^{2}$"
      ],
      "text/plain": [
       "x**2*(x - 2)**2"
      ]
     },
     "execution_count": 215,
     "metadata": {},
     "output_type": "execute_result"
    }
   ],
   "source": [
    "h(l,1)"
   ]
  },
  {
   "cell_type": "code",
   "execution_count": 216,
   "metadata": {},
   "outputs": [
    {
     "data": {
      "text/latex": [
       "$\\displaystyle \\frac{x^{2} \\left(7 - 3 x\\right) \\left(x - 1\\right)^{2}}{4}$"
      ],
      "text/plain": [
       "x**2*(7 - 3*x)*(x - 1)**2/4"
      ]
     },
     "execution_count": 216,
     "metadata": {},
     "output_type": "execute_result"
    }
   ],
   "source": [
    "h(l,2)"
   ]
  },
  {
   "cell_type": "code",
   "execution_count": 198,
   "metadata": {},
   "outputs": [
    {
     "data": {
      "text/latex": [
       "$\\displaystyle \\frac{x^{2} \\left(7 - 3 x\\right) \\left(x - 1\\right)^{2}}{4}$"
      ],
      "text/plain": [
       "x**2*(7 - 3*x)*(x - 1)**2/4"
      ]
     },
     "execution_count": 198,
     "metadata": {},
     "output_type": "execute_result"
    }
   ],
   "source": [
    "h(l,2)"
   ]
  },
  {
   "cell_type": "code",
   "execution_count": 199,
   "metadata": {},
   "outputs": [
    {
     "data": {
      "text/latex": [
       "$\\displaystyle \\frac{x \\left(x - 2\\right)^{2} \\left(x - 1\\right)^{2}}{4}$"
      ],
      "text/plain": [
       "x*(x - 2)**2*(x - 1)**2/4"
      ]
     },
     "execution_count": 199,
     "metadata": {},
     "output_type": "execute_result"
    }
   ],
   "source": [
    "g(l,0)"
   ]
  },
  {
   "cell_type": "code",
   "execution_count": 200,
   "metadata": {},
   "outputs": [
    {
     "data": {
      "text/latex": [
       "$\\displaystyle x^{2} \\left(x - 2\\right)^{2} \\left(x - 1\\right)$"
      ],
      "text/plain": [
       "x**2*(x - 2)**2*(x - 1)"
      ]
     },
     "execution_count": 200,
     "metadata": {},
     "output_type": "execute_result"
    }
   ],
   "source": [
    "g(l,1)"
   ]
  },
  {
   "cell_type": "code",
   "execution_count": 201,
   "metadata": {},
   "outputs": [
    {
     "data": {
      "text/latex": [
       "$\\displaystyle \\frac{x^{2} \\left(x - 2\\right) \\left(x - 1\\right)^{2}}{4}$"
      ],
      "text/plain": [
       "x**2*(x - 2)*(x - 1)**2/4"
      ]
     },
     "execution_count": 201,
     "metadata": {},
     "output_type": "execute_result"
    }
   ],
   "source": [
    "g(l,2)"
   ]
  },
  {
   "cell_type": "code",
   "execution_count": 220,
   "metadata": {},
   "outputs": [
    {
     "data": {
      "text/latex": [
       "$\\displaystyle x^{2} \\left(x - 2\\right)^{2} - \\frac{x^{2} \\left(x - 2\\right) \\left(x - 1\\right)^{2}}{4} + \\frac{x \\left(x - 2\\right)^{2} \\left(x - 1\\right)^{2}}{4}$"
      ],
      "text/plain": [
       "x**2*(x - 2)**2 - x**2*(x - 2)*(x - 1)**2/4 + x*(x - 2)**2*(x - 1)**2/4"
      ]
     },
     "execution_count": 220,
     "metadata": {},
     "output_type": "execute_result"
    }
   ],
   "source": [
    "p = 0\n",
    "for i in range(3):\n",
    "    p += h(l,i)*lv[i] + g(l,i)*lp[i]\n",
    "p"
   ]
  },
  {
   "cell_type": "code",
   "execution_count": null,
   "metadata": {},
   "outputs": [],
   "source": []
  }
 ],
 "metadata": {
  "kernelspec": {
   "display_name": "Python 3",
   "language": "python",
   "name": "python3"
  },
  "language_info": {
   "codemirror_mode": {
    "name": "ipython",
    "version": 3
   },
   "file_extension": ".py",
   "mimetype": "text/x-python",
   "name": "python",
   "nbconvert_exporter": "python",
   "pygments_lexer": "ipython3",
   "version": "3.7.0"
  }
 },
 "nbformat": 4,
 "nbformat_minor": 2
}
