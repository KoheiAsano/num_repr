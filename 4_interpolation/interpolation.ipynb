{
 "cells": [
  {
   "cell_type": "code",
   "execution_count": 1,
   "metadata": {},
   "outputs": [],
   "source": [
    "from sympy import symbols\n",
    "\n",
    "x = symbols('x')"
   ]
  },
  {
   "cell_type": "markdown",
   "metadata": {},
   "source": [
    "```1/(1+25*x**2)```"
   ]
  },
  {
   "cell_type": "code",
   "execution_count": 2,
   "metadata": {},
   "outputs": [],
   "source": [
    "# 求めたい関数\n",
    "def f(xi):\n",
    "    return 1/(1+25*xi**2)\n",
    "#     return float(expr.subs(x, xi))"
   ]
  },
  {
   "cell_type": "code",
   "execution_count": 15,
   "metadata": {},
   "outputs": [],
   "source": [
    "# 点と, 対応する関数値, Lagrange Term\n",
    "from numpy import linspace\n",
    "xs = list(linspace(-3,3,10))\n",
    "ys = list(map(f,xs))\n",
    "\n",
    "N = len(xs)\n",
    "\n",
    "# Lagrange Term\n",
    "def term_L(i):\n",
    "    L = 1\n",
    "    for j in range(N):\n",
    "        if i  != j:\n",
    "            L *= x-xs[j]\n",
    "    return L"
   ]
  },
  {
   "cell_type": "code",
   "execution_count": 4,
   "metadata": {},
   "outputs": [
    {
     "data": {
      "text/latex": [
       "$\\displaystyle \\left(x - 3.0\\right) \\left(x - 2.33333333333333\\right) \\left(x - 1.66666666666667\\right) \\left(x - 1.0\\right) \\left(x - 0.333333333333333\\right) \\left(x + 0.333333333333333\\right) \\left(x + 1.0\\right) \\left(x + 2.33333333333333\\right) \\left(x + 3.0\\right)$"
      ],
      "text/plain": [
       "(x - 3.0)*(x - 2.33333333333333)*(x - 1.66666666666667)*(x - 1.0)*(x - 0.333333333333333)*(x + 0.333333333333333)*(x + 1.0)*(x + 2.33333333333333)*(x + 3.0)"
      ]
     },
     "execution_count": 4,
     "metadata": {},
     "output_type": "execute_result"
    }
   ],
   "source": [
    "term_L(2)"
   ]
  },
  {
   "cell_type": "code",
   "execution_count": 10,
   "metadata": {},
   "outputs": [],
   "source": [
    "# Lagrange Polynomial\n",
    "def lagrange(xs, ys):\n",
    "    N = len(xs)\n",
    "    p = 0\n",
    "    for i in range(N):\n",
    "        L = term_L(i)\n",
    "        p += ys[i]*L/float(L.subs(x,xs[i]))\n",
    "    return p\n",
    "pn = lagrange(xs,ys)"
   ]
  },
  {
   "cell_type": "code",
   "execution_count": null,
   "metadata": {},
   "outputs": [],
   "source": [
    "# plotting, Runge\n",
    "import matplotlib.pyplot as plt\n",
    "import numpy as np\n",
    "t = np.arange(-2, 2.01, 0.01)\n",
    "ps = [float(pn.subs(x,tt)) for tt in t]\n",
    "plt.plot(t,f(t), 'b')\n",
    "plt.plot(t, ps, 'r')\n",
    "plt.xlabel('x')\n",
    "plt.ylabel('y')\n",
    "plt.show()"
   ]
  },
  {
   "cell_type": "code",
   "execution_count": 39,
   "metadata": {},
   "outputs": [
    {
     "data": {
      "text/plain": [
       "[[0.004424778761061947, 0, 0, 0, 0, 0, 0, 0, 0, 0],\n",
       " [0, 0.0072933549432739045, 0, 0, 0, 0, 0, 0, 0, 0],\n",
       " [0, 0, 0.014195583596214508, 0, 0, 0, 0, 0, 0, 0],\n",
       " [0, 0, 0, 0.038461538461538464, 0, 0, 0, 0, 0, 0],\n",
       " [0, 0, 0, 0, 0.264705882352941, 0, 0, 0, 0, 0],\n",
       " [0, 0, 0, 0, 0, 0.2647058823529415, 0, 0, 0, 0],\n",
       " [0, 0, 0, 0, 0, 0, 0.038461538461538464, 0, 0, 0],\n",
       " [0, 0, 0, 0, 0, 0, 0, 0.01419558359621452, 0, 0],\n",
       " [0, 0, 0, 0, 0, 0, 0, 0, 0.007293354943273907, 0],\n",
       " [0, 0, 0, 0, 0, 0, 0, 0, 0, 0.004424778761061947]]"
      ]
     },
     "execution_count": 39,
     "metadata": {},
     "output_type": "execute_result"
    }
   ],
   "source": [
    "div_diff = [[0 for i in range(N)] for j in range(N)]\n",
    "for i in range(N):\n",
    "    div_diff[i][i] = ys[i]\n",
    "div_diff"
   ]
  },
  {
   "cell_type": "code",
   "execution_count": 43,
   "metadata": {},
   "outputs": [
    {
     "name": "stdout",
     "output_type": "stream",
     "text": [
      "[[0.004424778761061947, 0.01757720055650378, 0.037357956274302294, 0.060386137223099406, 0.11334172562800443, 0.13641526837654788, 0.10485124891736479, 0.05697582193778038, 0.023623353051998936, 0], [0, 0.0072933549432739045, 0.03223340780923261, 0.08341431817189653, 0.24185846445157905, 0.3413758356271552, 0.2829897272929113, 0.16103592012561027, 0.06901539433954727, 0.023623353051998933], [0, 0, 0.014195583596214508, 0.07898568308662944, 0.40030261073126155, 0.6684770972208347, 0.6019232553492159, 0.36115395320952964, 0.16103592012561027, 0.056975821937780384], [0, 0, 0, 0.038461538461538464, 0.4547511312217193, 0.9366515837104076, 0.9366515837104077, 0.6019232553492161, 0.28298972729291144, 0.10485124891736486], [0, 0, 0, 0, 0.264705882352941, 0.7941176470588239, 0.9366515837104077, 0.668477097220835, 0.3413758356271554, 0.13641526837654797], [0, 0, 0, 0, 0, 0.2647058823529415, 0.4547511312217198, 0.40030261073126205, 0.24185846445157935, 0.11334172562800454], [0, 0, 0, 0, 0, 0, 0.038461538461538464, 0.07898568308662955, 0.08341431817189665, 0.06038613722309946], [0, 0, 0, 0, 0, 0, 0, 0.01419558359621452, 0.032233407809232624, 0.03735795627430228], [0, 0, 0, 0, 0, 0, 0, 0, 0.007293354943273907, 0.017577200556503775], [0, 0, 0, 0, 0, 0, 0, 0, 0, 0.004424778761061947]]\n"
     ]
    }
   ],
   "source": [
    "for m in range(1,N-1):\n",
    "    for j in range(N-m):\n",
    "        div_diff[j][j+m] = div_diff[j+1][j+m] + div_diff[j][j+m-1]\n",
    "        div_diff[j][j+m] /= xs[j+m] - xs[j]\n",
    "print(div_diff)"
   ]
  },
  {
   "cell_type": "code",
   "execution_count": 44,
   "metadata": {},
   "outputs": [
    {
     "name": "stdout",
     "output_type": "stream",
     "text": [
      "0.004424778761061947\n",
      "0.01757720055650378\n",
      "0.037357956274302294\n",
      "0.060386137223099406\n",
      "0.11334172562800443\n",
      "0.13641526837654788\n",
      "0.10485124891736479\n",
      "0.05697582193778038\n",
      "0.023623353051998936\n",
      "0\n"
     ]
    }
   ],
   "source": [
    "for i in range(N):\n",
    "    print(div_diff[0][i])"
   ]
  },
  {
   "cell_type": "code",
   "execution_count": 30,
   "metadata": {},
   "outputs": [
    {
     "name": "stdout",
     "output_type": "stream",
     "text": [
      "0.004424778761061947\n",
      "0.004302864273317938\n",
      "0.004537859029569725\n",
      "0.0074981664796807705\n",
      "0.03613034300738357\n",
      "-0.04962021935082857\n",
      "0.028874951404219078\n",
      "-0.009716753136585205\n",
      "0.0018218912131097165\n",
      "5.565571152092256e-18\n"
     ]
    }
   ],
   "source": [
    "\n",
    "# f[x1, x2, ... , xn] divided differences\n",
    "def div_diff(f, xs):\n",
    "    if len(xs) == 1:\n",
    "        return f(xs[0])\n",
    "    else:\n",
    "        return (div_diff(f, xs[1:])-div_diff(f, xs[:-1]))/(xs[-1]-xs[0])\n",
    "# l = [-5, -5/3, 5/3, 5]\n",
    "# # f = lambda x:1/(1+2*x**2)\n",
    "# for i in range(1, len(l)+1):\n",
    "#     print(div_diff(f, l[:i]))\n",
    "l = [-5, -5/3, 5/3, 5]\n",
    "# f = lambda x:1/(1+2*x**2)\n",
    "for i in range(1, len(xs)+1):\n",
    "    print(div_diff(f, xs[:i]))"
   ]
  },
  {
   "cell_type": "code",
   "execution_count": 53,
   "metadata": {},
   "outputs": [],
   "source": [
    "# Newton Interpolation\n",
    "def newton(xs, ys):\n",
    "    p = 0\n",
    "    for i in range(N):\n",
    "        term = 1\n",
    "        for j in range(i+1):\n",
    "            term *= (x-xs[j])\n",
    "        p += term*div_diff[0][i]\n",
    "    return p\n",
    "\n",
    "def newton(xs, ys):\n",
    "    if len(xs) == 1:\n",
    "#         print(xs)\n",
    "        return div_diff(f, xs)\n",
    "    else:\n",
    "        term = term_L( len(xs)-1)\n",
    "        term *= div_diff(f, xs)\n",
    "        print(xs)\n",
    "        return newton(xs[:-1], ys[:-1]) + term"
   ]
  },
  {
   "cell_type": "code",
   "execution_count": 50,
   "metadata": {},
   "outputs": [
    {
     "ename": "TypeError",
     "evalue": "'list' object is not callable",
     "output_type": "error",
     "traceback": [
      "\u001b[0;31m---------------------------------------------------------------------------\u001b[0m",
      "\u001b[0;31mTypeError\u001b[0m                                 Traceback (most recent call last)",
      "\u001b[0;32m<ipython-input-50-2f313ff38a4e>\u001b[0m in \u001b[0;36m<module>\u001b[0;34m()\u001b[0m\n\u001b[1;32m      1\u001b[0m \u001b[0mf\u001b[0m\u001b[0;34m(\u001b[0m\u001b[0mxs\u001b[0m\u001b[0;34m[\u001b[0m\u001b[0;36m0\u001b[0m\u001b[0;34m]\u001b[0m\u001b[0;34m)\u001b[0m\u001b[0;34m\u001b[0m\u001b[0m\n\u001b[0;32m----> 2\u001b[0;31m \u001b[0mdiv_diff\u001b[0m\u001b[0;34m(\u001b[0m\u001b[0mf\u001b[0m\u001b[0;34m,\u001b[0m \u001b[0mxs\u001b[0m\u001b[0;34m[\u001b[0m\u001b[0;34m:\u001b[0m\u001b[0;36m1\u001b[0m\u001b[0;34m]\u001b[0m\u001b[0;34m)\u001b[0m\u001b[0;34m\u001b[0m\u001b[0m\n\u001b[0m\u001b[1;32m      3\u001b[0m \u001b[0mdiv_diff\u001b[0m\u001b[0;34m(\u001b[0m\u001b[0mf\u001b[0m\u001b[0;34m,\u001b[0m \u001b[0;34m[\u001b[0m\u001b[0;34m-\u001b[0m\u001b[0;36m3\u001b[0m\u001b[0;34m]\u001b[0m\u001b[0;34m)\u001b[0m\u001b[0;34m\u001b[0m\u001b[0m\n",
      "\u001b[0;31mTypeError\u001b[0m: 'list' object is not callable"
     ]
    }
   ],
   "source": [
    "f(xs[0])\n",
    "div_diff(f, xs[:1])\n",
    "div_diff(f, [-3])"
   ]
  },
  {
   "cell_type": "code",
   "execution_count": 54,
   "metadata": {},
   "outputs": [
    {
     "data": {
      "text/latex": [
       "$\\displaystyle 0.00442477876106195 x + 0.0236233530519989 \\left(x - 2.33333333333333\\right) \\left(x - 1.66666666666667\\right) \\left(x - 1.0\\right) \\left(x - 0.333333333333333\\right) \\left(x + 0.333333333333333\\right) \\left(x + 1.0\\right) \\left(x + 1.66666666666667\\right) \\left(x + 2.33333333333333\\right) \\left(x + 3.0\\right) + 0.0569758219377804 \\left(x - 1.66666666666667\\right) \\left(x - 1.0\\right) \\left(x - 0.333333333333333\\right) \\left(x + 0.333333333333333\\right) \\left(x + 1.0\\right) \\left(x + 1.66666666666667\\right) \\left(x + 2.33333333333333\\right) \\left(x + 3.0\\right) + 0.104851248917365 \\left(x - 1.0\\right) \\left(x - 0.333333333333333\\right) \\left(x + 0.333333333333333\\right) \\left(x + 1.0\\right) \\left(x + 1.66666666666667\\right) \\left(x + 2.33333333333333\\right) \\left(x + 3.0\\right) + 0.136415268376548 \\left(x - 0.333333333333333\\right) \\left(x + 0.333333333333333\\right) \\left(x + 1.0\\right) \\left(x + 1.66666666666667\\right) \\left(x + 2.33333333333333\\right) \\left(x + 3.0\\right) + 0.113341725628004 \\left(x + 0.333333333333333\\right) \\left(x + 1.0\\right) \\left(x + 1.66666666666667\\right) \\left(x + 2.33333333333333\\right) \\left(x + 3.0\\right) + 0.0603861372230994 \\left(x + 1.0\\right) \\left(x + 1.66666666666667\\right) \\left(x + 2.33333333333333\\right) \\left(x + 3.0\\right) + 0.0373579562743023 \\left(x + 1.66666666666667\\right) \\left(x + 2.33333333333333\\right) \\left(x + 3.0\\right) + 0.0175772005565038 \\left(x + 2.33333333333333\\right) \\left(x + 3.0\\right) + 0.0132743362831858$"
      ],
      "text/plain": [
       "0.00442477876106195*x + 0.0236233530519989*(x - 2.33333333333333)*(x - 1.66666666666667)*(x - 1.0)*(x - 0.333333333333333)*(x + 0.333333333333333)*(x + 1.0)*(x + 1.66666666666667)*(x + 2.33333333333333)*(x + 3.0) + 0.0569758219377804*(x - 1.66666666666667)*(x - 1.0)*(x - 0.333333333333333)*(x + 0.333333333333333)*(x + 1.0)*(x + 1.66666666666667)*(x + 2.33333333333333)*(x + 3.0) + 0.104851248917365*(x - 1.0)*(x - 0.333333333333333)*(x + 0.333333333333333)*(x + 1.0)*(x + 1.66666666666667)*(x + 2.33333333333333)*(x + 3.0) + 0.136415268376548*(x - 0.333333333333333)*(x + 0.333333333333333)*(x + 1.0)*(x + 1.66666666666667)*(x + 2.33333333333333)*(x + 3.0) + 0.113341725628004*(x + 0.333333333333333)*(x + 1.0)*(x + 1.66666666666667)*(x + 2.33333333333333)*(x + 3.0) + 0.0603861372230994*(x + 1.0)*(x + 1.66666666666667)*(x + 2.33333333333333)*(x + 3.0) + 0.0373579562743023*(x + 1.66666666666667)*(x + 2.33333333333333)*(x + 3.0) + 0.0175772005565038*(x + 2.33333333333333)*(x + 3.0) + 0.0132743362831858"
      ]
     },
     "execution_count": 54,
     "metadata": {},
     "output_type": "execute_result"
    }
   ],
   "source": [
    "pn = newton(xs, ys)\n",
    "pn"
   ]
  },
  {
   "cell_type": "code",
   "execution_count": 55,
   "metadata": {},
   "outputs": [
    {
     "data": {
      "text/plain": [
       "Text(0, 0.5, 'y')"
      ]
     },
     "execution_count": 55,
     "metadata": {},
     "output_type": "execute_result"
    },
    {
     "data": {
      "image/png": "[encoded data removed]",
      "text/plain": [
       "<Figure size 432x288 with 1 Axes>"
      ]
     },
     "metadata": {
      "needs_background": "light"
     },
     "output_type": "display_data"
    }
   ],
   "source": [
    "# plotting, Runge\n",
    "t = np.arange(-3, 3.01, 0.01)\n",
    "ps = [float(pn.subs(x,tt)) for tt in t]\n",
    "plt.plot(t,f(t), 'b')\n",
    "plt.plot(t, ps, 'r')\n",
    "plt.xlabel('x')\n",
    "plt.ylabel('y')"
   ]
  },
  {
   "cell_type": "code",
   "execution_count": 218,
   "metadata": {},
   "outputs": [],
   "source": [
    "# Hermite Interpolation\n",
    "def q(xs, i):\n",
    "    return term_L(xs,i)**2\n",
    "def h(xs, i):\n",
    "    return q(xs,i)/q(xs,i).subs(x,xs[i])*(1 - (x-xs[i])*q(xs,i).diff(x).subs(x,xs[i])/q(xs,i).subs(x,xs[i]))\n",
    "def g(xs, i):\n",
    "    return q(xs,i)/q(xs,i).subs(x,xs[i])*(x-xs[i])\n",
    "l = [0,1,2]\n",
    "lv = [0,1,0]\n",
    "lp = [1,0,-1]"
   ]
  },
  {
   "cell_type": "code",
   "execution_count": 213,
   "metadata": {},
   "outputs": [
    {
     "data": {
      "text/latex": [
       "$\\displaystyle 12$"
      ],
      "text/plain": [
       "12"
      ]
     },
     "execution_count": 213,
     "metadata": {},
     "output_type": "execute_result"
    }
   ],
   "source": [
    "q(l,2).diff(x).subs(x,2)"
   ]
  },
  {
   "cell_type": "code",
   "execution_count": 215,
   "metadata": {},
   "outputs": [
    {
     "data": {
      "text/latex": [
       "$\\displaystyle x^{2} \\left(x - 2\\right)^{2}$"
      ],
      "text/plain": [
       "x**2*(x - 2)**2"
      ]
     },
     "execution_count": 215,
     "metadata": {},
     "output_type": "execute_result"
    }
   ],
   "source": [
    "h(l,1)"
   ]
  },
  {
   "cell_type": "code",
   "execution_count": 216,
   "metadata": {},
   "outputs": [
    {
     "data": {
      "text/latex": [
       "$\\displaystyle \\frac{x^{2} \\left(7 - 3 x\\right) \\left(x - 1\\right)^{2}}{4}$"
      ],
      "text/plain": [
       "x**2*(7 - 3*x)*(x - 1)**2/4"
      ]
     },
     "execution_count": 216,
     "metadata": {},
     "output_type": "execute_result"
    }
   ],
   "source": [
    "h(l,2)"
   ]
  },
  {
   "cell_type": "code",
   "execution_count": 198,
   "metadata": {},
   "outputs": [
    {
     "data": {
      "text/latex": [
       "$\\displaystyle \\frac{x^{2} \\left(7 - 3 x\\right) \\left(x - 1\\right)^{2}}{4}$"
      ],
      "text/plain": [
       "x**2*(7 - 3*x)*(x - 1)**2/4"
      ]
     },
     "execution_count": 198,
     "metadata": {},
     "output_type": "execute_result"
    }
   ],
   "source": [
    "h(l,2)"
   ]
  },
  {
   "cell_type": "code",
   "execution_count": 199,
   "metadata": {},
   "outputs": [
    {
     "data": {
      "text/latex": [
       "$\\displaystyle \\frac{x \\left(x - 2\\right)^{2} \\left(x - 1\\right)^{2}}{4}$"
      ],
      "text/plain": [
       "x*(x - 2)**2*(x - 1)**2/4"
      ]
     },
     "execution_count": 199,
     "metadata": {},
     "output_type": "execute_result"
    }
   ],
   "source": [
    "g(l,0)"
   ]
  },
  {
   "cell_type": "code",
   "execution_count": 200,
   "metadata": {},
   "outputs": [
    {
     "data": {
      "text/latex": [
       "$\\displaystyle x^{2} \\left(x - 2\\right)^{2} \\left(x - 1\\right)$"
      ],
      "text/plain": [
       "x**2*(x - 2)**2*(x - 1)"
      ]
     },
     "execution_count": 200,
     "metadata": {},
     "output_type": "execute_result"
    }
   ],
   "source": [
    "g(l,1)"
   ]
  },
  {
   "cell_type": "code",
   "execution_count": 201,
   "metadata": {},
   "outputs": [
    {
     "data": {
      "text/latex": [
       "$\\displaystyle \\frac{x^{2} \\left(x - 2\\right) \\left(x - 1\\right)^{2}}{4}$"
      ],
      "text/plain": [
       "x**2*(x - 2)*(x - 1)**2/4"
      ]
     },
     "execution_count": 201,
     "metadata": {},
     "output_type": "execute_result"
    }
   ],
   "source": [
    "g(l,2)"
   ]
  },
  {
   "cell_type": "code",
   "execution_count": 220,
   "metadata": {},
   "outputs": [
    {
     "data": {
      "text/latex": [
       "$\\displaystyle x^{2} \\left(x - 2\\right)^{2} - \\frac{x^{2} \\left(x - 2\\right) \\left(x - 1\\right)^{2}}{4} + \\frac{x \\left(x - 2\\right)^{2} \\left(x - 1\\right)^{2}}{4}$"
      ],
      "text/plain": [
       "x**2*(x - 2)**2 - x**2*(x - 2)*(x - 1)**2/4 + x*(x - 2)**2*(x - 1)**2/4"
      ]
     },
     "execution_count": 220,
     "metadata": {},
     "output_type": "execute_result"
    }
   ],
   "source": [
    "p = 0\n",
    "for i in range(3):\n",
    "    p += h(l,i)*lv[i] + g(l,i)*lp[i]\n",
    "p"
   ]
  }
 ],
 "metadata": {
  "kernelspec": {
   "display_name": "Python 3",
   "language": "python",
   "name": "python3"
  },
  "language_info": {
   "codemirror_mode": {
    "name": "ipython",
    "version": 3
   },
   "file_extension": ".py",
   "mimetype": "text/x-python",
   "name": "python",
   "nbconvert_exporter": "python",
   "pygments_lexer": "ipython3",
   "version": "3.7.0"
  }
 },
 "nbformat": 4,
 "nbformat_minor": 2
}
