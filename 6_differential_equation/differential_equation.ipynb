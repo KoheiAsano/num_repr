{
 "cells": [
  {
   "cell_type": "code",
   "execution_count": 1,
   "metadata": {},
   "outputs": [
    {
     "name": "stdout",
     "output_type": "stream",
     "text": [
      "631 ns ± 7.4 ns per loop (mean ± std. dev. of 7 runs, 1000000 loops each)\n"
     ]
    },
    {
     "data": {
      "text/plain": [
       "{'CAML_LD_LIBRARY_PATH': '/Users/kohei/.opam/4.09.0/lib/stublibs:Updated by package ocaml',\n",
       " 'TERM_PROGRAM': 'Apple_Terminal',\n",
       " 'SHELL': '/bin/bash',\n",
       " 'TERM': 'xterm-color',\n",
       " 'TMPDIR': '/var/folders/tx/krjgpd_976zbdjxv_b2ttk8m0000gn/T/',\n",
       " 'TERM_PROGRAM_VERSION': '433',\n",
       " 'OPAM_SWITCH_PREFIX': '/Users/kohei/.opam/4.09.0',\n",
       " 'TERM_SESSION_ID': '3573CE20-4F2F-4EF5-BD35-56D77AA6F815',\n",
       " 'OCAML_TOPLEVEL_PATH': '/Users/kohei/.opam/4.09.0/lib/toplevel',\n",
       " 'USER': 'kohei',\n",
       " 'SSH_AUTH_SOCK': '/private/tmp/com.apple.launchd.XoVgLwmwEw/Listeners',\n",
       " 'PATH': '/Library/Frameworks/Python.framework/Versions/3.7/bin:/Users/kohei/.opam/4.09.0/bin:/Users/kohei/.cargo/bin:/Users/kohei/.rbenv/bin:/Users/kohei/.nodebrew/current/bin:/Library/Frameworks/Python.framework/Versions/3.7/bin:/usr/local/bin:/usr/bin:/bin:/usr/sbin:/sbin:/Library/TeX/texbin:/usr/local/go/bin:/Applications/Wireshark.app/Contents/MacOS:/Users/kohei/flutter/bin:/usr/local/opt/llvm@7/bin:/usr/local/opt/binutils/bin:/Applications/Julia-1.2.app/Contents/Resources/julia/bin:/Users/kohei/Downloads/Visual Studio Code 2.app/Contents/Resources/app/bin',\n",
       " 'PWD': '/Users/kohei',\n",
       " 'LANG': 'ja_JP.UTF-8',\n",
       " 'XPC_FLAGS': '0x0',\n",
       " 'PS1': '\\\\[\\\\033[32m\\\\]\\\\u@\\\\h\\\\[\\\\033[00m\\\\]:\\\\[\\\\033[34m\\\\]\\\\w\\\\[\\\\033[31m\\\\]$(__git_ps1\\\\\\n)\\\\[\\\\033[00m\\\\]\\\\n\\\\$ ',\n",
       " 'XPC_SERVICE_NAME': '0',\n",
       " 'SHLVL': '1',\n",
       " 'HOME': '/Users/kohei',\n",
       " 'LOGNAME': 'kohei',\n",
       " '_': '/Library/Frameworks/Python.framework/Versions/3.7/bin/jupyter',\n",
       " 'OLDPWD': '/Users/kohei/singular_introduction/chapter_1/8_operations_on_ideals_and_their_computation',\n",
       " '__CF_USER_TEXT_ENCODING': '0x1F5:0x1:0xE',\n",
       " '__PYVENV_LAUNCHER__': '/Library/Frameworks/Python.framework/Versions/3.7/bin/python3.7',\n",
       " 'JPY_PARENT_PID': '4842',\n",
       " 'CLICOLOR': '1',\n",
       " 'PAGER': 'cat',\n",
       " 'GIT_PAGER': 'cat',\n",
       " 'MPLBACKEND': 'module://ipykernel.pylab.backend_inline'}"
      ]
     },
     "execution_count": 1,
     "metadata": {},
     "output_type": "execute_result"
    }
   ],
   "source": [
    "from sys import exit, stderr\n",
    "from inspect import currentframe\n",
    "import numpy as np\n",
    "def debug(*args):\n",
    "    names = {id(v):k for k,v in currentframe().f_back.f_locals.items()}\n",
    "    print(', '.join(names.get(id(arg),'???')+' = '+repr(arg) for arg in args), file=stderr)\n",
    "    return\n",
    "\n",
    "%timeit [0 for _ in range(10)]\n",
    "%env"
   ]
  },
  {
   "cell_type": "code",
   "execution_count": 2,
   "metadata": {},
   "outputs": [],
   "source": [
    "def f(x,y):\n",
    "    return 2*y*(1-y/3)\n",
    "y0 = 0.5\n",
    "ab = [0,1]"
   ]
  },
  {
   "cell_type": "code",
   "execution_count": 3,
   "metadata": {},
   "outputs": [],
   "source": [
    "\n",
    "def Euler(f, y0, h, ab):\n",
    "    Y = y0\n",
    "    for x in np.arange(ab[0],ab[1],h):\n",
    "#         print(x,Y)\n",
    "        Y = Y + h*f(x,Y)\n",
    "#     return (Y, x+h)\n",
    "    return Y"
   ]
  },
  {
   "cell_type": "code",
   "execution_count": 4,
   "metadata": {},
   "outputs": [
    {
     "data": {
      "text/plain": [
       "1.7473079300818921"
      ]
     },
     "execution_count": 4,
     "metadata": {},
     "output_type": "execute_result"
    }
   ],
   "source": [
    "h = 0.1\n",
    "E01 = Euler(f, y0, h,ab)\n",
    "E01"
   ]
  },
  {
   "cell_type": "code",
   "execution_count": 5,
   "metadata": {},
   "outputs": [
    {
     "data": {
      "text/plain": [
       "1.7852596140502808"
      ]
     },
     "execution_count": 5,
     "metadata": {},
     "output_type": "execute_result"
    }
   ],
   "source": [
    "h = 0.01\n",
    "E001 = Euler(f, y0, h,ab)\n",
    "E001"
   ]
  },
  {
   "cell_type": "code",
   "execution_count": 6,
   "metadata": {},
   "outputs": [],
   "source": [
    "def Heun(f, y0, h, ab):\n",
    "    Y = y0\n",
    "    for x in np.arange(ab[0],ab[1],h):\n",
    "#         print(x,Y)\n",
    "        Y = Y + h/2*(f(x,Y) + f(x+h, Y +h*f(x,Y)))\n",
    "#     return (Y, x+h)\n",
    "    return Y"
   ]
  },
  {
   "cell_type": "code",
   "execution_count": 72,
   "metadata": {},
   "outputs": [
    {
     "data": {
      "text/plain": [
       "1.7860745757295826"
      ]
     },
     "execution_count": 72,
     "metadata": {},
     "output_type": "execute_result"
    }
   ],
   "source": [
    "h = 0.1\n",
    "H01 = Heun(f, y0, h,ab)\n",
    "H01"
   ]
  },
  {
   "cell_type": "code",
   "execution_count": 73,
   "metadata": {},
   "outputs": [
    {
     "data": {
      "text/plain": [
       "1.7892200426205689"
      ]
     },
     "execution_count": 73,
     "metadata": {},
     "output_type": "execute_result"
    }
   ],
   "source": [
    "h = 0.01\n",
    "H001 = Heun(f, y0, h,ab)\n",
    "H001"
   ]
  },
  {
   "cell_type": "code",
   "execution_count": 76,
   "metadata": {},
   "outputs": [],
   "source": [
    "def Runge_Kutta(f, y0, h, ab):\n",
    "    Y = y0\n",
    "    alp = phi = 1/6\n",
    "    bet = gam = 1/3\n",
    "    for x in np.arange(ab[0],ab[1],h):\n",
    "#         print(x,Y)\n",
    "        k1 = f(x, Y)\n",
    "        k2 = f(x+h/2, Y + h/2*k1)\n",
    "        k3 = f(x+h/2, Y + h/2*k2)\n",
    "        k4 = f(x+h, Y + h*k3)\n",
    "        Y = Y + h*(alp*k1 + bet*k2 + gam*k3 + phi*k4)\n",
    "#     return (Y, x+h)\n",
    "    return Y"
   ]
  },
  {
   "cell_type": "code",
   "execution_count": 77,
   "metadata": {},
   "outputs": [
    {
     "data": {
      "text/plain": [
       "1.7892510253066145"
      ]
     },
     "execution_count": 77,
     "metadata": {},
     "output_type": "execute_result"
    }
   ],
   "source": [
    "h = 0.1\n",
    "R01 = Runge_Kutta(f, y0, h,ab)\n",
    "R01"
   ]
  },
  {
   "cell_type": "code",
   "execution_count": 78,
   "metadata": {},
   "outputs": [
    {
     "data": {
      "text/plain": [
       "1.7892540090156106"
      ]
     },
     "execution_count": 78,
     "metadata": {},
     "output_type": "execute_result"
    }
   ],
   "source": [
    "h = 0.01\n",
    "R001 = Runge_Kutta(f, y0, h,ab)\n",
    "R001"
   ]
  },
  {
   "cell_type": "code",
   "execution_count": 67,
   "metadata": {},
   "outputs": [],
   "source": [
    "from math import exp\n",
    "def log(x):\n",
    "    return 3/(1+5*exp(-2*x))"
   ]
  },
  {
   "cell_type": "code",
   "execution_count": 68,
   "metadata": {},
   "outputs": [],
   "source": [
    "v = log(1)"
   ]
  },
  {
   "cell_type": "code",
   "execution_count": 87,
   "metadata": {},
   "outputs": [
    {
     "name": "stdout",
     "output_type": "stream",
     "text": [
      "0.04194607924536298\n",
      "0.003994395276974316\n"
     ]
    },
    {
     "data": {
      "text/plain": [
       "0.4216853774265406"
      ]
     },
     "execution_count": 87,
     "metadata": {},
     "output_type": "execute_result"
    }
   ],
   "source": [
    "print(v - E01)\n",
    "print(v - E001)\n",
    "e01E=v - E01\n",
    "e001E=v - E001\n",
    "(e01E-e001E)/(0.1-0.01)"
   ]
  },
  {
   "cell_type": "code",
   "execution_count": 88,
   "metadata": {},
   "outputs": [
    {
     "name": "stdout",
     "output_type": "stream",
     "text": [
      "0.0031794335976724764\n",
      "3.396670668620594e-05\n"
     ]
    },
    {
     "data": {
      "text/plain": [
       "0.03494963212206967"
      ]
     },
     "execution_count": 88,
     "metadata": {},
     "output_type": "execute_result"
    }
   ],
   "source": [
    "print(v - H01)\n",
    "print(v - H001)\n",
    "e01H=v - H01\n",
    "e001H=v - H001\n",
    "(e01H-e001H)/(0.1-0.01)"
   ]
  },
  {
   "cell_type": "code",
   "execution_count": 89,
   "metadata": {},
   "outputs": [
    {
     "name": "stdout",
     "output_type": "stream",
     "text": [
      "2.9840206405840064e-06\n",
      "3.116444879935898e-10\n"
     ]
    },
    {
     "data": {
      "text/plain": [
       "3.315232217884458e-05"
      ]
     },
     "execution_count": 89,
     "metadata": {},
     "output_type": "execute_result"
    }
   ],
   "source": [
    "print(v - R01)\n",
    "print(v - R001)\n",
    "e01R=v - R01\n",
    "e001R=v - R001\n",
    "(e01R-e001R)/(0.1-0.01)"
   ]
  },
  {
   "cell_type": "code",
   "execution_count": null,
   "metadata": {},
   "outputs": [],
   "source": [
    "R"
   ]
  }
 ],
 "metadata": {
  "kernelspec": {
   "display_name": "Python 3",
   "language": "python",
   "name": "python3"
  },
  "language_info": {
   "codemirror_mode": {
    "name": "ipython",
    "version": 3
   },
   "file_extension": ".py",
   "mimetype": "text/x-python",
   "name": "python",
   "nbconvert_exporter": "python",
   "pygments_lexer": "ipython3",
   "version": "3.7.0"
  }
 },
 "nbformat": 4,
 "nbformat_minor": 2
}
