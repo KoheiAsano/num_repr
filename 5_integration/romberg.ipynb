{
 "cells": [
  {
   "cell_type": "code",
   "execution_count": 6,
   "metadata": {},
   "outputs": [],
   "source": [
    "# f を[a,b]で積分する\n",
    "def f(x):\n",
    "    return 1/x**2\n",
    "a, b = 1, 2"
   ]
  },
  {
   "cell_type": "code",
   "execution_count": 10,
   "metadata": {},
   "outputs": [
    {
     "name": "stdout",
     "output_type": "stream",
     "text": [
      "0.625\n"
     ]
    }
   ],
   "source": [
    "# 閉型台形公式\n",
    "def trapezoid(f, a, b):\n",
    "    h = (b-a)\n",
    "    return h/2*(f(a) + f(b))\n",
    "print(trapezoid(f, a, b))"
   ]
  },
  {
   "cell_type": "code",
   "execution_count": 11,
   "metadata": {},
   "outputs": [
    {
     "name": "stdout",
     "output_type": "stream",
     "text": [
      "0.5046296296296295\n"
     ]
    }
   ],
   "source": [
    "def simpson3(f, a, b):\n",
    "    h = (b-a)/2\n",
    "    return h/3*(f(a) + 4*f(a+h) + f(b))\n",
    "print(simpson3(f, 1, 2))"
   ]
  },
  {
   "cell_type": "code",
   "execution_count": 13,
   "metadata": {},
   "outputs": [
    {
     "name": "stdout",
     "output_type": "stream",
     "text": [
      "0.4444444444444444\n"
     ]
    }
   ],
   "source": [
    "def middle(f, a, b):\n",
    "    return (b-a)*f(a + (b-a)/2)\n",
    "print(middle(f, a, b))"
   ]
  },
  {
   "cell_type": "code",
   "execution_count": 14,
   "metadata": {},
   "outputs": [],
   "source": [
    "def S(f, n):\n",
    "    h = (b-a)/n\n",
    "    res = 0\n",
    "    for j in range(1, n):\n",
    "        res += 2*f(a+h*j)\n",
    "    res += f(a) + f(b)\n",
    "    return h/2*res"
   ]
  },
  {
   "cell_type": "code",
   "execution_count": 19,
   "metadata": {},
   "outputs": [
    {
     "name": "stdout",
     "output_type": "stream",
     "text": [
      "0 3 0.5022708503263364\n",
      "0 2 0.5089937641723355\n",
      "1 2 0.5000298790443368\n",
      "0 1 0.5347222222222222\n",
      "1 1 0.50041761148904\n",
      "2 1 0.50000403021469\n",
      "0 0 0.625\n",
      "1 0 0.5046296296296297\n",
      "2 0 0.5001368102796673\n",
      "3 0 0.500001922594611\n",
      "[0.625, 0.5347222222222222, 0.5089937641723355, 0.5022708503263364, 0]\n",
      "[0.5046296296296297, 0.50041761148904, 0.5000298790443368, 0, 0]\n",
      "[0.5001368102796673, 0.50000403021469, 0, 0, 0]\n",
      "[0.500001922594611, 0, 0, 0, 0]\n",
      "[0, 0, 0, 0, 0]\n"
     ]
    }
   ],
   "source": [
    "memo = [[0 for _ in range(5)] for _ in range(5)]\n",
    "def R(f, l, k):\n",
    "    if memo[l][k] != 0:\n",
    "        return memo[l][k]\n",
    "    n = 2**k\n",
    "    if l == 0:\n",
    "        r = S(f, n)\n",
    "        print(l, k, r)\n",
    "        memo[l][k]=r\n",
    "        return r\n",
    "    else:\n",
    "        r = (4**l*R(f, l-1,k+1) - R(f, l-1, k))/(4**l-1)\n",
    "        print(l,k,r)\n",
    "        memo[l][k]=r\n",
    "        return r\n",
    "R(f, 3, 0)\n",
    "for i in range(5):\n",
    "    print(memo[i])"
   ]
  }
 ],
 "metadata": {
  "kernelspec": {
   "display_name": "Python 3",
   "language": "python",
   "name": "python3"
  },
  "language_info": {
   "codemirror_mode": {
    "name": "ipython",
    "version": 3
   },
   "file_extension": ".py",
   "mimetype": "text/x-python",
   "name": "python",
   "nbconvert_exporter": "python",
   "pygments_lexer": "ipython3",
   "version": "3.7.0"
  }
 },
 "nbformat": 4,
 "nbformat_minor": 2
}
