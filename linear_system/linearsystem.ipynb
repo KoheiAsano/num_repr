{
 "cells": [
  {
   "cell_type": "code",
   "execution_count": 3,
   "metadata": {},
   "outputs": [
    {
     "name": "stdout",
     "output_type": "stream",
     "text": [
      "[10.  1.  1.]\n"
     ]
    }
   ],
   "source": [
    "import numpy as np\n",
    "EPS = 1e-9\n",
    "N = 3\n",
    "a = [[0.01, 5.0, 4.9],\n",
    "    [0.5, 3.0, 2.0],\n",
    "    [1.0, 5.0, -5.0]]\n",
    "b=[10,10,10]\n",
    "print(np.linalg.solve(a,b))"
   ]
  },
  {
   "cell_type": "code",
   "execution_count": 33,
   "metadata": {},
   "outputs": [
    {
     "name": "stdout",
     "output_type": "stream",
     "text": [
      "[[0.01, 5.0, 4.9], [0.5, 3.0, 2.0], [1.0, 5.0, -5.0]]\n",
      "[0.01, 5.0, 4.9] 10\n",
      "[0, -247.0, -243.00000000000003] -490.0\n",
      "[0, -495.0, -495.00000000000006] -990.0\n",
      "\n",
      "[0.01, 5.0, 4.9] 10\n",
      "[0, -247.0, -243.00000000000003] -490.0\n",
      "[0, 0, -8.016194331983797] -8.016194331983684\n",
      "\n",
      "[0.01, 5.0, 4.9] 10\n",
      "[0, -247.0, -243.00000000000003] -490.0\n",
      "[0, 0, -8.016194331983797] -8.016194331983684\n",
      "\n",
      "[9.999999999986109, 1.000000000000014, 0.9999999999999858]\n"
     ]
    }
   ],
   "source": [
    "# Elimination, LU\n",
    "\n",
    "def printsys():\n",
    "    for i in range(N):\n",
    "        print(a[i], b[i])\n",
    "    print()\n",
    "    return\n",
    "print(a)\n",
    "\n",
    "# L\n",
    "L = np.identity(3)\n",
    "\n",
    "# 前進消去\n",
    "for k in range(N):\n",
    "    for i in range(k+1, N):\n",
    "        # TODO:pivotting\n",
    "        m = a[i][k]/a[k][k]\n",
    "        L[i][k] = m\n",
    "        for j in range(k, N):\n",
    "            a[i][j] -=  m*a[k][j]\n",
    "            if abs(a[i][j]) < EPS:\n",
    "                a[i][j] = 0\n",
    "        b[i] = b[i] - m*b[k]\n",
    "        if abs(b[i]) < EPS:\n",
    "            b[i] = 0\n",
    "    printsys()\n",
    "\n",
    "    \n",
    "# 後退\n",
    "res = []\n",
    "for k in range(N-1, -1, -1):\n",
    "    sum = 0\n",
    "    for i in range(N-1, k, -1):\n",
    "        sum += a[k][i]*res[-1]\n",
    "    res.append((b[k]-sum)/a[k][k])\n",
    "print(res[::-1])"
   ]
  },
  {
   "cell_type": "code",
   "execution_count": 27,
   "metadata": {},
   "outputs": [
    {
     "name": "stdout",
     "output_type": "stream",
     "text": [
      "[[  1.           0.           0.        ]\n",
      " [ 50.           1.           0.        ]\n",
      " [100.           2.00404858   1.        ]]\n",
      "[[ 0.01  5.    4.9 ]\n",
      " [ 0.5   3.    2.  ]\n",
      " [ 1.    5.   -5.  ]]\n"
     ]
    }
   ],
   "source": [
    "a = [[0.01, 5.0, 4.9],\n",
    "    [0.5, 3.0, 2.0],\n",
    "    [1.0, 5.0, -5.0]]\n",
    "\n",
    "L = np.identity(3)\n",
    "\n",
    "for k in range(N):\n",
    "    for i in range(k+1, N):\n",
    "        m = a[i][k]/a[k][k]\n",
    "        L[i][k] = m\n",
    "        for j in range(k, N):\n",
    "            a[i][j] -=  m*a[k][j]\n",
    "            if abs(a[i][j]) < EPS:\n",
    "                a[i][j] = 0\n",
    "        b[i] = b[i] - m*b[k]\n",
    "        if abs(b[i]) < EPS:\n",
    "            b[i] = 0\n",
    "U = a\n",
    "print(L)\n",
    "print(np.dot(L,U))"
   ]
  },
  {
   "cell_type": "code",
   "execution_count": 17,
   "metadata": {},
   "outputs": [
    {
     "data": {
      "text/plain": [
       "array([[1.00000000e-02, 5.00000000e+00, 4.90000000e+00],\n",
       "       [1.00000000e+00, 2.53000000e+02, 2.47000000e+02],\n",
       "       [3.00202429e+00, 5.11012146e+02, 4.89008097e+02]])"
      ]
     },
     "execution_count": 17,
     "metadata": {},
     "output_type": "execute_result"
    }
   ],
   "source": []
  },
  {
   "cell_type": "code",
   "execution_count": 29,
   "metadata": {},
   "outputs": [],
   "source": [
    "# クラーメルの公式"
   ]
  },
  {
   "cell_type": "code",
   "execution_count": 1,
   "metadata": {},
   "outputs": [
    {
     "name": "stdout",
     "output_type": "stream",
     "text": [
      "System:\n",
      "10.0*x1 + -1.0*x2 + 2.0*x3 + 0.0*x4 = 6.0\n",
      "-1.0*x1 + 11.0*x2 + -1.0*x3 + 3.0*x4 = 25.0\n",
      "2.0*x1 + -1.0*x2 + 10.0*x3 + -1.0*x4 = -11.0\n",
      "0.0*x1 + 3.0*x2 + -1.0*x3 + 8.0*x4 = 15.0\n",
      "\n",
      "Current solution: [0. 0. 0. 0.]\n",
      "Current solution: [ 0.6         2.27272727 -1.1         1.875     ]\n",
      "Current solution: [ 1.04727273  1.71590909 -0.80522727  0.88522727]\n",
      "Current solution: [ 0.93263636  2.05330579 -1.04934091  1.13088068]\n",
      "Current solution: [ 1.01519876  1.95369576 -0.96810863  0.97384272]\n",
      "Current solution: [ 0.9889913   2.01141473 -1.0102859   1.02135051]\n",
      "Current solution: [ 1.00319865  1.99224126 -0.99452174  0.99443374]\n",
      "Current solution: [ 0.99812847  2.00230688 -1.00197223  1.00359431]\n",
      "Current solution: [ 1.00062513  1.9986703  -0.99903558  0.99888839]\n",
      "Current solution: [ 0.99967415  2.00044767 -1.00036916  1.00061919]\n",
      "Current solution: [ 1.0001186   1.99976795 -0.99982814  0.99978598]\n",
      "Current solution: [ 0.99994242  2.00008477 -1.00006833  1.0001085 ]\n",
      "Current solution: [ 1.00002214  1.99995896 -0.99996916  0.99995967]\n",
      "Current solution: [ 0.99998973  2.00001582 -1.00001257  1.00001924]\n",
      "Current solution: [ 1.00000409  1.99999268 -0.99999444  0.9999925 ]\n",
      "Current solution: [ 0.99999816  2.00000292 -1.0000023   1.00000344]\n",
      "Current solution: [ 1.00000075  1.99999868 -0.99999899  0.99999862]\n",
      "Current solution: [ 0.99999967  2.00000054 -1.00000042  1.00000062]\n",
      "Current solution: [ 1.00000014  1.99999976 -0.99999982  0.99999975]\n",
      "Current solution: [ 0.99999994  2.0000001  -1.00000008  1.00000011]\n",
      "Current solution: [ 1.00000003  1.99999996 -0.99999997  0.99999995]\n",
      "Current solution: [ 0.99999999  2.00000002 -1.00000001  1.00000002]\n",
      "Current solution: [ 1.          1.99999999 -0.99999999  0.99999999]\n",
      "Current solution: [ 1.  2. -1.  1.]\n",
      "Current solution: [ 1.  2. -1.  1.]\n",
      "Current solution: [ 1.  2. -1.  1.]\n",
      "Current solution: [ 1.  2. -1.  1.]\n",
      "Current solution: [ 1.  2. -1.  1.]\n",
      "Current solution: [ 1.  2. -1.  1.]\n",
      "Solution:\n",
      "[ 1.  2. -1.  1.]\n",
      "Error:\n",
      "[ 3.95796285e-10 -7.29652783e-10  5.13317389e-10 -5.86034332e-10]\n"
     ]
    }
   ],
   "source": [
    "# jacobi法\n",
    "import numpy as np\n",
    "\n",
    "ITERATION_LIMIT = 1000\n",
    "\n",
    "# initialize the matrix\n",
    "A = np.array([[10., -1., 2., 0.],\n",
    "              [-1., 11., -1., 3.],\n",
    "              [2., -1., 10., -1.],\n",
    "              [0.0, 3., -1., 8.]])\n",
    "# initialize the RHS vector\n",
    "b = np.array([6., 25., -11., 15.])\n",
    "\n",
    "# prints the system\n",
    "print(\"System:\")\n",
    "for i in range(A.shape[0]):\n",
    "    row = [\"{}*x{}\".format(A[i, j], j + 1) for j in range(A.shape[1])]\n",
    "    print(\" + \".join(row), \"=\", b[i])\n",
    "print()\n",
    "\n",
    "x = np.zeros_like(b)\n",
    "for it_count in range(ITERATION_LIMIT):\n",
    "    print(\"Current solution:\", x)\n",
    "    x_new = np.zeros_like(x)\n",
    "\n",
    "    for i in range(A.shape[0]):\n",
    "        s1 = np.dot(A[i, :i], x[:i])\n",
    "        s2 = np.dot(A[i, i + 1:], x[i + 1:])\n",
    "        x_new[i] = (b[i] - s1 - s2) / A[i, i]\n",
    "\n",
    "    if np.allclose(x, x_new, atol=1e-10, rtol=0.):\n",
    "        break\n",
    "\n",
    "    x = x_new\n",
    "\n",
    "print(\"Solution:\")\n",
    "print(x)\n",
    "error = np.dot(A, x) - b\n",
    "print(\"Error:\")\n",
    "print(error)"
   ]
  },
  {
   "cell_type": "code",
   "execution_count": 2,
   "metadata": {},
   "outputs": [
    {
     "name": "stdout",
     "output_type": "stream",
     "text": [
      "System of equations:\n",
      "[ 10*x1 +  -1*x2 +   2*x3 +   0*x4] = [  6]\n",
      "[ -1*x1 +  11*x2 +  -1*x3 +   3*x4] = [ 25]\n",
      "[  2*x1 +  -1*x2 +  10*x3 +  -1*x4] = [-11]\n",
      "[  0*x1 +   3*x2 +  -1*x3 +   8*x4] = [ 15]\n",
      "Iteration 1: [0. 0. 0. 0.]\n",
      "Iteration 2: [ 0.6         2.32727273 -0.98727273  0.87886364]\n",
      "Iteration 3: [ 1.03018182  2.03693802 -1.0144562   0.98434122]\n",
      "Iteration 4: [ 1.00658504  2.00355502 -1.00252738  0.99835095]\n",
      "Iteration 5: [ 1.00086098  2.00029825 -1.00030728  0.99984975]\n",
      "Iteration 6: [ 1.00009128  2.00002134 -1.00003115  0.9999881 ]\n",
      "Iteration 7: [ 1.00000836  2.00000117 -1.00000275  0.99999922]\n",
      "Iteration 8: [ 1.00000067  2.00000002 -1.00000021  0.99999996]\n",
      "Iteration 9: [ 1.00000004  1.99999999 -1.00000001  1.        ]\n",
      "Iteration 10: [ 1.  2. -1.  1.]\n",
      "Solution: [ 1.  2. -1.  1.]\n",
      "Error: [ 2.06480930e-08 -1.25551054e-08  3.61417563e-11  0.00000000e+00]\n"
     ]
    }
   ],
   "source": [
    "# gauss-seidel\n",
    "import numpy as np\n",
    "\n",
    "ITERATION_LIMIT = 1000\n",
    "\n",
    "# initialize the matrix\n",
    "A = np.array([[10., -1., 2., 0.],\n",
    "              [-1., 11., -1., 3.],\n",
    "              [2., -1., 10., -1.],\n",
    "              [0., 3., -1., 8.]])\n",
    "# initialize the RHS vector\n",
    "b = np.array([6., 25., -11., 15.])\n",
    "\n",
    "print(\"System of equations:\")\n",
    "for i in range(A.shape[0]):\n",
    "    row = [\"{0:3g}*x{1}\".format(A[i, j], j + 1) for j in range(A.shape[1])]\n",
    "    print(\"[{0}] = [{1:3g}]\".format(\" + \".join(row), b[i]))\n",
    "\n",
    "x = np.zeros_like(b)\n",
    "for it_count in range(1, ITERATION_LIMIT):\n",
    "    x_new = np.zeros_like(x)\n",
    "    print(\"Iteration {0}: {1}\".format(it_count, x))\n",
    "    for i in range(A.shape[0]):\n",
    "        s1 = np.dot(A[i, :i], x_new[:i])\n",
    "        s2 = np.dot(A[i, i + 1:], x[i + 1:])\n",
    "        x_new[i] = (b[i] - s1 - s2) / A[i, i]\n",
    "    if np.allclose(x, x_new, rtol=1e-8):\n",
    "        break\n",
    "    x = x_new\n",
    "\n",
    "print(\"Solution: {0}\".format(x))\n",
    "error = np.dot(A, x) - b\n",
    "print(\"Error: {0}\".format(error))"
   ]
  },
  {
   "cell_type": "code",
   "execution_count": null,
   "metadata": {},
   "outputs": [],
   "source": []
  }
 ],
 "metadata": {
  "kernelspec": {
   "display_name": "Python 3",
   "language": "python",
   "name": "python3"
  },
  "language_info": {
   "codemirror_mode": {
    "name": "ipython",
    "version": 3
   },
   "file_extension": ".py",
   "mimetype": "text/x-python",
   "name": "python",
   "nbconvert_exporter": "python",
   "pygments_lexer": "ipython3",
   "version": "3.7.0"
  }
 },
 "nbformat": 4,
 "nbformat_minor": 2
}
