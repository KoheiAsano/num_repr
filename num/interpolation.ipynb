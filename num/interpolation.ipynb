{
 "cells": [
  {
   "cell_type": "code",
   "execution_count": 101,
   "metadata": {},
   "outputs": [],
   "source": [
    "# Lagrange interpolation\n",
    "\n",
    "from sympy import symbols\n",
    "\n",
    "x = symbols('x')\n",
    "\n",
    "def f(x):\n",
    "#     return 1/(1+25*x**2)\n",
    "    return x**3 + x**2"
   ]
  },
  {
   "cell_type": "code",
   "execution_count": 102,
   "metadata": {},
   "outputs": [
    {
     "name": "stdout",
     "output_type": "stream",
     "text": [
      "[-3.0, -2.6842105263157894, -2.3684210526315788, -2.0526315789473686, -1.736842105263158, -1.4210526315789473, -1.105263157894737, -0.7894736842105265, -0.47368421052631593, -0.1578947368421053, 0.1578947368421053, 0.4736842105263155, 0.7894736842105261, 1.1052631578947363, 1.421052631578947, 1.7368421052631575, 2.052631578947368, 2.3684210526315788, 2.6842105263157894, 3.0]\n",
      "[-18.0, -12.134713515089663, -7.676046070855807, -4.435048840938914, -2.222772998979443, -0.850269718617874, -0.1285901734946786, 0.1312144627496719, 0.11809301647470481, 0.020994314039947524, 0.028867181804927852, 0.3306604461291729, 1.115322933372211, 2.5718034698935672, 4.889050882052773, 8.256013996209354, 12.86164163872284, 18.894882635952758, 26.544685814258635, 36.0]\n"
     ]
    }
   ],
   "source": [
    "from numpy import linspace\n",
    "x_list = list(linspace(-3,3,20))\n",
    "f_list = list(map(f,x_list))\n",
    "print(x_list)\n",
    "print(f_list)\n",
    "N = len(x_list)"
   ]
  },
  {
   "cell_type": "code",
   "execution_count": 103,
   "metadata": {},
   "outputs": [],
   "source": [
    "# Lagrange term\n",
    "def l_term(x_list, i):\n",
    "    N = len(x_list)\n",
    "    L = 1\n",
    "    for j in range(N):\n",
    "        if i  != j:\n",
    "            L *= x-x_list[j]\n",
    "    return L"
   ]
  },
  {
   "cell_type": "code",
   "execution_count": 104,
   "metadata": {},
   "outputs": [
    {
     "data": {
      "text/latex": [
       "$\\displaystyle \\left(x - 3.0\\right) \\left(x - 2.68421052631579\\right) \\left(x - 2.36842105263158\\right) \\left(x - 2.05263157894737\\right) \\left(x - 1.73684210526316\\right) \\left(x - 1.42105263157895\\right) \\left(x - 1.10526315789474\\right) \\left(x - 0.789473684210526\\right) \\left(x - 0.473684210526315\\right) \\left(x - 0.157894736842105\\right) \\left(x + 0.157894736842105\\right) \\left(x + 0.473684210526316\\right) \\left(x + 0.789473684210527\\right) \\left(x + 1.10526315789474\\right) \\left(x + 1.42105263157895\\right) \\left(x + 1.73684210526316\\right) \\left(x + 2.05263157894737\\right) \\left(x + 2.36842105263158\\right) \\left(x + 3.0\\right)$"
      ],
      "text/plain": [
       "(x - 3.0)*(x - 2.68421052631579)*(x - 2.36842105263158)*(x - 2.05263157894737)*(x - 1.73684210526316)*(x - 1.42105263157895)*(x - 1.10526315789474)*(x - 0.789473684210526)*(x - 0.473684210526315)*(x - 0.157894736842105)*(x + 0.157894736842105)*(x + 0.473684210526316)*(x + 0.789473684210527)*(x + 1.10526315789474)*(x + 1.42105263157895)*(x + 1.73684210526316)*(x + 2.05263157894737)*(x + 2.36842105263158)*(x + 3.0)"
      ]
     },
     "execution_count": 104,
     "metadata": {},
     "output_type": "execute_result"
    }
   ],
   "source": [
    "l_term(x_list,1)"
   ]
  },
  {
   "cell_type": "code",
   "execution_count": 105,
   "metadata": {},
   "outputs": [],
   "source": [
    "# Lagrange interpolation\n",
    "def l_poly(x_list, f_list):\n",
    "    poly = 0\n",
    "    \n",
    "    for i in range(len(f_list)):\n",
    "        lt = l_term(x_list,i)\n",
    "        poly += f_list[i]*lt/lt.subs(x,x_list[i])\n",
    "    return poly"
   ]
  },
  {
   "cell_type": "code",
   "execution_count": 106,
   "metadata": {},
   "outputs": [],
   "source": [
    "p_n = l_poly(x_list,f_list)"
   ]
  },
  {
   "cell_type": "code",
   "execution_count": 107,
   "metadata": {},
   "outputs": [
    {
     "data": {
      "image/png": "[encoded data removed]",
      "text/plain": [
       "<Figure size 432x288 with 1 Axes>"
      ]
     },
     "metadata": {
      "needs_background": "light"
     },
     "output_type": "display_data"
    }
   ],
   "source": [
    "import matplotlib.pyplot as plt\n",
    "import numpy as np\n",
    "t = np.arange(-3, 3.01, 0.01)\n",
    "ps = [float(p_n.subs(x,tt)) for tt in t]\n",
    "plt.plot(t,f(t), 'b')\n",
    "plt.plot(t, ps, 'r')\n",
    "plt.xlabel('x')\n",
    "# plt.ylim([0,1.5])\n",
    "plt.ylabel('y')\n",
    "plt.show()"
   ]
  },
  {
   "cell_type": "code",
   "execution_count": 97,
   "metadata": {},
   "outputs": [
    {
     "name": "stdout",
     "output_type": "stream",
     "text": [
      "0.003471555844408252\n",
      "0.0023216043264117987\n",
      "0.0015969681948639345\n",
      "0.0012203231065931585\n",
      "0.0010958017098493171\n",
      "0.0012270211617389749\n",
      "0.001853065725751286\n",
      "0.004212524429534775\n",
      "0.012435957463213384\n",
      "-0.0648771893797805\n",
      "0.10794864348669245\n",
      "-0.10776777507446955\n",
      "0.07628600441823555\n",
      "-0.041252379785251404\n",
      "0.017661554194340935\n",
      "-0.0060366390320576785\n",
      "0.001597818435946621\n",
      "-0.00028109768780542265\n",
      "-8.944667923005412e-19\n",
      "0\n"
     ]
    }
   ],
   "source": [
    "# differential quotient\n",
    "div_diff = [[0 for i in range(N+1)] for j in range(N+1)]\n",
    "for i in range(N):\n",
    "    div_diff[i][i] = f_list[i]\n",
    "for m in range(1,N):\n",
    "    for j in range(N-m):\n",
    "        div_diff[j][j+m] = div_diff[j+1][j+m] - div_diff[j][j+m-1]\n",
    "        div_diff[j][j+m] /= x_list[j+m] - x_list[j]\n",
    "for i in range(1,N+1):\n",
    "    print(div_diff[0][i])"
   ]
  },
  {
   "cell_type": "code",
   "execution_count": 98,
   "metadata": {},
   "outputs": [],
   "source": [
    "def newton(xs, ys):\n",
    "    p = 0\n",
    "    for i in range(N):\n",
    "        term = 1\n",
    "        for j in range(i+1):\n",
    "            term *= (x-xs[j])\n",
    "        p += term*div_diff[0][i+1]\n",
    "    return p"
   ]
  },
  {
   "cell_type": "code",
   "execution_count": 99,
   "metadata": {},
   "outputs": [
    {
     "data": {
      "text/latex": [
       "$\\displaystyle 0.00347155584440825 x - 8.94466792300541 \\cdot 10^{-19} \\left(x - 2.68421052631579\\right) \\left(x - 2.36842105263158\\right) \\left(x - 2.05263157894737\\right) \\left(x - 1.73684210526316\\right) \\left(x - 1.42105263157895\\right) \\left(x - 1.10526315789474\\right) \\left(x - 0.789473684210526\\right) \\left(x - 0.473684210526315\\right) \\left(x - 0.157894736842105\\right) \\left(x + 0.157894736842105\\right) \\left(x + 0.473684210526316\\right) \\left(x + 0.789473684210527\\right) \\left(x + 1.10526315789474\\right) \\left(x + 1.42105263157895\\right) \\left(x + 1.73684210526316\\right) \\left(x + 2.05263157894737\\right) \\left(x + 2.36842105263158\\right) \\left(x + 2.68421052631579\\right) \\left(x + 3.0\\right) - 0.000281097687805423 \\left(x - 2.36842105263158\\right) \\left(x - 2.05263157894737\\right) \\left(x - 1.73684210526316\\right) \\left(x - 1.42105263157895\\right) \\left(x - 1.10526315789474\\right) \\left(x - 0.789473684210526\\right) \\left(x - 0.473684210526315\\right) \\left(x - 0.157894736842105\\right) \\left(x + 0.157894736842105\\right) \\left(x + 0.473684210526316\\right) \\left(x + 0.789473684210527\\right) \\left(x + 1.10526315789474\\right) \\left(x + 1.42105263157895\\right) \\left(x + 1.73684210526316\\right) \\left(x + 2.05263157894737\\right) \\left(x + 2.36842105263158\\right) \\left(x + 2.68421052631579\\right) \\left(x + 3.0\\right) + 0.00159781843594662 \\left(x - 2.05263157894737\\right) \\left(x - 1.73684210526316\\right) \\left(x - 1.42105263157895\\right) \\left(x - 1.10526315789474\\right) \\left(x - 0.789473684210526\\right) \\left(x - 0.473684210526315\\right) \\left(x - 0.157894736842105\\right) \\left(x + 0.157894736842105\\right) \\left(x + 0.473684210526316\\right) \\left(x + 0.789473684210527\\right) \\left(x + 1.10526315789474\\right) \\left(x + 1.42105263157895\\right) \\left(x + 1.73684210526316\\right) \\left(x + 2.05263157894737\\right) \\left(x + 2.36842105263158\\right) \\left(x + 2.68421052631579\\right) \\left(x + 3.0\\right) - 0.00603663903205768 \\left(x - 1.73684210526316\\right) \\left(x - 1.42105263157895\\right) \\left(x - 1.10526315789474\\right) \\left(x - 0.789473684210526\\right) \\left(x - 0.473684210526315\\right) \\left(x - 0.157894736842105\\right) \\left(x + 0.157894736842105\\right) \\left(x + 0.473684210526316\\right) \\left(x + 0.789473684210527\\right) \\left(x + 1.10526315789474\\right) \\left(x + 1.42105263157895\\right) \\left(x + 1.73684210526316\\right) \\left(x + 2.05263157894737\\right) \\left(x + 2.36842105263158\\right) \\left(x + 2.68421052631579\\right) \\left(x + 3.0\\right) + 0.0176615541943409 \\left(x - 1.42105263157895\\right) \\left(x - 1.10526315789474\\right) \\left(x - 0.789473684210526\\right) \\left(x - 0.473684210526315\\right) \\left(x - 0.157894736842105\\right) \\left(x + 0.157894736842105\\right) \\left(x + 0.473684210526316\\right) \\left(x + 0.789473684210527\\right) \\left(x + 1.10526315789474\\right) \\left(x + 1.42105263157895\\right) \\left(x + 1.73684210526316\\right) \\left(x + 2.05263157894737\\right) \\left(x + 2.36842105263158\\right) \\left(x + 2.68421052631579\\right) \\left(x + 3.0\\right) - 0.0412523797852514 \\left(x - 1.10526315789474\\right) \\left(x - 0.789473684210526\\right) \\left(x - 0.473684210526315\\right) \\left(x - 0.157894736842105\\right) \\left(x + 0.157894736842105\\right) \\left(x + 0.473684210526316\\right) \\left(x + 0.789473684210527\\right) \\left(x + 1.10526315789474\\right) \\left(x + 1.42105263157895\\right) \\left(x + 1.73684210526316\\right) \\left(x + 2.05263157894737\\right) \\left(x + 2.36842105263158\\right) \\left(x + 2.68421052631579\\right) \\left(x + 3.0\\right) + 0.0762860044182355 \\left(x - 0.789473684210526\\right) \\left(x - 0.473684210526315\\right) \\left(x - 0.157894736842105\\right) \\left(x + 0.157894736842105\\right) \\left(x + 0.473684210526316\\right) \\left(x + 0.789473684210527\\right) \\left(x + 1.10526315789474\\right) \\left(x + 1.42105263157895\\right) \\left(x + 1.73684210526316\\right) \\left(x + 2.05263157894737\\right) \\left(x + 2.36842105263158\\right) \\left(x + 2.68421052631579\\right) \\left(x + 3.0\\right) - 0.10776777507447 \\left(x - 0.473684210526315\\right) \\left(x - 0.157894736842105\\right) \\left(x + 0.157894736842105\\right) \\left(x + 0.473684210526316\\right) \\left(x + 0.789473684210527\\right) \\left(x + 1.10526315789474\\right) \\left(x + 1.42105263157895\\right) \\left(x + 1.73684210526316\\right) \\left(x + 2.05263157894737\\right) \\left(x + 2.36842105263158\\right) \\left(x + 2.68421052631579\\right) \\left(x + 3.0\\right) + 0.107948643486692 \\left(x - 0.157894736842105\\right) \\left(x + 0.157894736842105\\right) \\left(x + 0.473684210526316\\right) \\left(x + 0.789473684210527\\right) \\left(x + 1.10526315789474\\right) \\left(x + 1.42105263157895\\right) \\left(x + 1.73684210526316\\right) \\left(x + 2.05263157894737\\right) \\left(x + 2.36842105263158\\right) \\left(x + 2.68421052631579\\right) \\left(x + 3.0\\right) - 0.0648771893797805 \\left(x + 0.157894736842105\\right) \\left(x + 0.473684210526316\\right) \\left(x + 0.789473684210527\\right) \\left(x + 1.10526315789474\\right) \\left(x + 1.42105263157895\\right) \\left(x + 1.73684210526316\\right) \\left(x + 2.05263157894737\\right) \\left(x + 2.36842105263158\\right) \\left(x + 2.68421052631579\\right) \\left(x + 3.0\\right) + 0.0124359574632134 \\left(x + 0.473684210526316\\right) \\left(x + 0.789473684210527\\right) \\left(x + 1.10526315789474\\right) \\left(x + 1.42105263157895\\right) \\left(x + 1.73684210526316\\right) \\left(x + 2.05263157894737\\right) \\left(x + 2.36842105263158\\right) \\left(x + 2.68421052631579\\right) \\left(x + 3.0\\right) + 0.00421252442953478 \\left(x + 0.789473684210527\\right) \\left(x + 1.10526315789474\\right) \\left(x + 1.42105263157895\\right) \\left(x + 1.73684210526316\\right) \\left(x + 2.05263157894737\\right) \\left(x + 2.36842105263158\\right) \\left(x + 2.68421052631579\\right) \\left(x + 3.0\\right) + 0.00185306572575129 \\left(x + 1.10526315789474\\right) \\left(x + 1.42105263157895\\right) \\left(x + 1.73684210526316\\right) \\left(x + 2.05263157894737\\right) \\left(x + 2.36842105263158\\right) \\left(x + 2.68421052631579\\right) \\left(x + 3.0\\right) + 0.00122702116173897 \\left(x + 1.42105263157895\\right) \\left(x + 1.73684210526316\\right) \\left(x + 2.05263157894737\\right) \\left(x + 2.36842105263158\\right) \\left(x + 2.68421052631579\\right) \\left(x + 3.0\\right) + 0.00109580170984932 \\left(x + 1.73684210526316\\right) \\left(x + 2.05263157894737\\right) \\left(x + 2.36842105263158\\right) \\left(x + 2.68421052631579\\right) \\left(x + 3.0\\right) + 0.00122032310659316 \\left(x + 2.05263157894737\\right) \\left(x + 2.36842105263158\\right) \\left(x + 2.68421052631579\\right) \\left(x + 3.0\\right) + 0.00159696819486393 \\left(x + 2.36842105263158\\right) \\left(x + 2.68421052631579\\right) \\left(x + 3.0\\right) + 0.0023216043264118 \\left(x + 2.68421052631579\\right) \\left(x + 3.0\\right) + 0.0104146675332248$"
      ],
      "text/plain": [
       "0.00347155584440825*x - 8.94466792300541e-19*(x - 2.68421052631579)*(x - 2.36842105263158)*(x - 2.05263157894737)*(x - 1.73684210526316)*(x - 1.42105263157895)*(x - 1.10526315789474)*(x - 0.789473684210526)*(x - 0.473684210526315)*(x - 0.157894736842105)*(x + 0.157894736842105)*(x + 0.473684210526316)*(x + 0.789473684210527)*(x + 1.10526315789474)*(x + 1.42105263157895)*(x + 1.73684210526316)*(x + 2.05263157894737)*(x + 2.36842105263158)*(x + 2.68421052631579)*(x + 3.0) - 0.000281097687805423*(x - 2.36842105263158)*(x - 2.05263157894737)*(x - 1.73684210526316)*(x - 1.42105263157895)*(x - 1.10526315789474)*(x - 0.789473684210526)*(x - 0.473684210526315)*(x - 0.157894736842105)*(x + 0.157894736842105)*(x + 0.473684210526316)*(x + 0.789473684210527)*(x + 1.10526315789474)*(x + 1.42105263157895)*(x + 1.73684210526316)*(x + 2.05263157894737)*(x + 2.36842105263158)*(x + 2.68421052631579)*(x + 3.0) + 0.00159781843594662*(x - 2.05263157894737)*(x - 1.73684210526316)*(x - 1.42105263157895)*(x - 1.10526315789474)*(x - 0.789473684210526)*(x - 0.473684210526315)*(x - 0.157894736842105)*(x + 0.157894736842105)*(x + 0.473684210526316)*(x + 0.789473684210527)*(x + 1.10526315789474)*(x + 1.42105263157895)*(x + 1.73684210526316)*(x + 2.05263157894737)*(x + 2.36842105263158)*(x + 2.68421052631579)*(x + 3.0) - 0.00603663903205768*(x - 1.73684210526316)*(x - 1.42105263157895)*(x - 1.10526315789474)*(x - 0.789473684210526)*(x - 0.473684210526315)*(x - 0.157894736842105)*(x + 0.157894736842105)*(x + 0.473684210526316)*(x + 0.789473684210527)*(x + 1.10526315789474)*(x + 1.42105263157895)*(x + 1.73684210526316)*(x + 2.05263157894737)*(x + 2.36842105263158)*(x + 2.68421052631579)*(x + 3.0) + 0.0176615541943409*(x - 1.42105263157895)*(x - 1.10526315789474)*(x - 0.789473684210526)*(x - 0.473684210526315)*(x - 0.157894736842105)*(x + 0.157894736842105)*(x + 0.473684210526316)*(x + 0.789473684210527)*(x + 1.10526315789474)*(x + 1.42105263157895)*(x + 1.73684210526316)*(x + 2.05263157894737)*(x + 2.36842105263158)*(x + 2.68421052631579)*(x + 3.0) - 0.0412523797852514*(x - 1.10526315789474)*(x - 0.789473684210526)*(x - 0.473684210526315)*(x - 0.157894736842105)*(x + 0.157894736842105)*(x + 0.473684210526316)*(x + 0.789473684210527)*(x + 1.10526315789474)*(x + 1.42105263157895)*(x + 1.73684210526316)*(x + 2.05263157894737)*(x + 2.36842105263158)*(x + 2.68421052631579)*(x + 3.0) + 0.0762860044182355*(x - 0.789473684210526)*(x - 0.473684210526315)*(x - 0.157894736842105)*(x + 0.157894736842105)*(x + 0.473684210526316)*(x + 0.789473684210527)*(x + 1.10526315789474)*(x + 1.42105263157895)*(x + 1.73684210526316)*(x + 2.05263157894737)*(x + 2.36842105263158)*(x + 2.68421052631579)*(x + 3.0) - 0.10776777507447*(x - 0.473684210526315)*(x - 0.157894736842105)*(x + 0.157894736842105)*(x + 0.473684210526316)*(x + 0.789473684210527)*(x + 1.10526315789474)*(x + 1.42105263157895)*(x + 1.73684210526316)*(x + 2.05263157894737)*(x + 2.36842105263158)*(x + 2.68421052631579)*(x + 3.0) + 0.107948643486692*(x - 0.157894736842105)*(x + 0.157894736842105)*(x + 0.473684210526316)*(x + 0.789473684210527)*(x + 1.10526315789474)*(x + 1.42105263157895)*(x + 1.73684210526316)*(x + 2.05263157894737)*(x + 2.36842105263158)*(x + 2.68421052631579)*(x + 3.0) - 0.0648771893797805*(x + 0.157894736842105)*(x + 0.473684210526316)*(x + 0.789473684210527)*(x + 1.10526315789474)*(x + 1.42105263157895)*(x + 1.73684210526316)*(x + 2.05263157894737)*(x + 2.36842105263158)*(x + 2.68421052631579)*(x + 3.0) + 0.0124359574632134*(x + 0.473684210526316)*(x + 0.789473684210527)*(x + 1.10526315789474)*(x + 1.42105263157895)*(x + 1.73684210526316)*(x + 2.05263157894737)*(x + 2.36842105263158)*(x + 2.68421052631579)*(x + 3.0) + 0.00421252442953478*(x + 0.789473684210527)*(x + 1.10526315789474)*(x + 1.42105263157895)*(x + 1.73684210526316)*(x + 2.05263157894737)*(x + 2.36842105263158)*(x + 2.68421052631579)*(x + 3.0) + 0.00185306572575129*(x + 1.10526315789474)*(x + 1.42105263157895)*(x + 1.73684210526316)*(x + 2.05263157894737)*(x + 2.36842105263158)*(x + 2.68421052631579)*(x + 3.0) + 0.00122702116173897*(x + 1.42105263157895)*(x + 1.73684210526316)*(x + 2.05263157894737)*(x + 2.36842105263158)*(x + 2.68421052631579)*(x + 3.0) + 0.00109580170984932*(x + 1.73684210526316)*(x + 2.05263157894737)*(x + 2.36842105263158)*(x + 2.68421052631579)*(x + 3.0) + 0.00122032310659316*(x + 2.05263157894737)*(x + 2.36842105263158)*(x + 2.68421052631579)*(x + 3.0) + 0.00159696819486393*(x + 2.36842105263158)*(x + 2.68421052631579)*(x + 3.0) + 0.0023216043264118*(x + 2.68421052631579)*(x + 3.0) + 0.0104146675332248"
      ]
     },
     "execution_count": 99,
     "metadata": {},
     "output_type": "execute_result"
    }
   ],
   "source": [
    "pn = newton(x_list, f_list)\n",
    "# pn"
   ]
  },
  {
   "cell_type": "code",
   "execution_count": 100,
   "metadata": {},
   "outputs": [
    {
     "data": {
      "text/plain": [
       "Text(0, 0.5, 'y')"
      ]
     },
     "execution_count": 100,
     "metadata": {},
     "output_type": "execute_result"
    },
    {
     "data": {
      "image/png": "[encoded data removed]",
      "text/plain": [
       "<Figure size 432x288 with 1 Axes>"
      ]
     },
     "metadata": {
      "needs_background": "light"
     },
     "output_type": "display_data"
    }
   ],
   "source": [
    "t = np.arange(-3, 3.01, 0.01)\n",
    "ps = [float(pn.subs(x,tt)) for tt in t]\n",
    "plt.plot(t,f(t), 'b')\n",
    "plt.plot(t, ps, 'r')\n",
    "plt.xlabel('x')\n",
    "plt.ylabel('y')"
   ]
  },
  {
   "cell_type": "code",
   "execution_count": null,
   "metadata": {},
   "outputs": [],
   "source": []
  }
 ],
 "metadata": {
  "kernelspec": {
   "display_name": "Python 3",
   "language": "python",
   "name": "python3"
  },
  "language_info": {
   "codemirror_mode": {
    "name": "ipython",
    "version": 3
   },
   "file_extension": ".py",
   "mimetype": "text/x-python",
   "name": "python",
   "nbconvert_exporter": "python",
   "pygments_lexer": "ipython3",
   "version": "3.7.0"
  }
 },
 "nbformat": 4,
 "nbformat_minor": 2
}
