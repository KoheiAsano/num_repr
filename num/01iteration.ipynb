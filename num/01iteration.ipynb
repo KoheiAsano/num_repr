{
 "cells": [
  {
   "cell_type": "code",
   "execution_count": 34,
   "metadata": {},
   "outputs": [
    {
     "data": {
      "text/plain": [
       "2.8"
      ]
     },
     "execution_count": 34,
     "metadata": {},
     "output_type": "execute_result"
    }
   ],
   "source": [
    "f = lambda x: x + 1\n",
    "f = lambda x: (x*x + 1)/3\n",
    "f = lambda x: 3 - 1/x\n",
    "f(5)"
   ]
  },
  {
   "cell_type": "code",
   "execution_count": 41,
   "metadata": {},
   "outputs": [
    {
     "data": {
      "text/plain": [
       "2.618033988749895"
      ]
     },
     "execution_count": 41,
     "metadata": {},
     "output_type": "execute_result"
    }
   ],
   "source": [
    "N = 100\n",
    "def iterate(f , x0 : float):\n",
    "    x = x0\n",
    "    for i in range(N):\n",
    "#         print(i,x)\n",
    "        x = f(x)\n",
    "    return x\n",
    "# iterate(f, 1)\n",
    "# iterate(f, 2)\n",
    "# iterate(f, 3)\n",
    "# iterate(f, 2.61)\n",
    "# iterate(f, 2.62)"
   ]
  },
  {
   "cell_type": "code",
   "execution_count": 72,
   "metadata": {},
   "outputs": [
    {
     "data": {
      "text/plain": [
       "3.141592653589793"
      ]
     },
     "execution_count": 72,
     "metadata": {},
     "output_type": "execute_result"
    }
   ],
   "source": [
    "import math\n",
    "N = 100000090\n",
    "# f = lambda x: (x*x + 1)/3\n",
    "# fd = lambda x: 2/3*x\n",
    "f = lambda x: math.sin(x)\n",
    "fd = lambda x: math.cos(x)\n",
    "\n",
    "def newton(f, fd, x0 : float):\n",
    "    x = x0\n",
    "    for i in range(N):\n",
    "        if fd(x) == 0: raise Exception (\"miss\")\n",
    "        xn = x-f(x)/fd(x)\n",
    "        if abs(x-xn) < 1e-9: break\n",
    "        x = xn\n",
    "    return x\n",
    "\n",
    "newton(f, fd, 4)"
   ]
  },
  {
   "cell_type": "code",
   "execution_count": null,
   "metadata": {},
   "outputs": [],
   "source": []
  }
 ],
 "metadata": {
  "kernelspec": {
   "display_name": "Python 3",
   "language": "python",
   "name": "python3"
  },
  "language_info": {
   "codemirror_mode": {
    "name": "ipython",
    "version": 3
   },
   "file_extension": ".py",
   "mimetype": "text/x-python",
   "name": "python",
   "nbconvert_exporter": "python",
   "pygments_lexer": "ipython3",
   "version": "3.7.0"
  }
 },
 "nbformat": 4,
 "nbformat_minor": 2
}
