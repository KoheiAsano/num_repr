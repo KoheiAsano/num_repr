{
 "cells": [
  {
   "cell_type": "code",
   "execution_count": 71,
   "metadata": {},
   "outputs": [],
   "source": [
    "import numpy as np\n",
    "from sympy import symbols\n",
    "from sympy.parsing.sympy_parser import parse_expr\n",
    "from sys import exit, stderr\n",
    "from inspect import currentframe\n",
    "def debug(*args):\n",
    "    names = {id(v):k for k,v in currentframe().f_back.f_locals.items()}\n",
    "    print(', '.join(names.get(id(arg),'???')+' = '+repr(arg) for arg in args), file=stderr)\n",
    "    return\n"
   ]
  },
  {
   "cell_type": "code",
   "execution_count": 98,
   "metadata": {},
   "outputs": [
    {
     "data": {
      "text/plain": [
       "(array([ 7.19615242, -3.19615242,  2.        ]),\n",
       " array([[-0.72430711, -0.86422135,  0.30151134],\n",
       "        [-0.46626671,  0.20478768, -0.90453403],\n",
       "        [-0.50791197,  0.45954702,  0.30151134]]))"
      ]
     },
     "execution_count": 98,
     "metadata": {},
     "output_type": "execute_result"
    }
   ],
   "source": [
    "A = np.array([[1, 2, 7], [2, 3, 1], [3, 1, 2]])\n",
    "np.linalg.eig(A)"
   ]
  },
  {
   "cell_type": "code",
   "execution_count": 103,
   "metadata": {},
   "outputs": [
    {
     "name": "stdout",
     "output_type": "stream",
     "text": [
      "10.0\n",
      "6.4\n",
      "7.625\n",
      "7.024590163934426\n",
      "7.276546091015169\n",
      "7.161481719050673\n",
      "7.211805011307911\n",
      "7.189265133262127\n",
      "7.199228145064849\n",
      "7.194790771570552\n"
     ]
    }
   ],
   "source": [
    "# Power method\n",
    "x = np.transpose(np.array([1,1,1]))\n",
    "for i in range(10):\n",
    "    r = (A@x)[0]/x[0]\n",
    "    print(r)\n",
    "    x = A@x"
   ]
  },
  {
   "cell_type": "code",
   "execution_count": 49,
   "metadata": {},
   "outputs": [],
   "source": [
    "# jacobi method A: symmetrical matrix, N: dimension of A\n",
    "\n",
    "def jacobi_method(A, N):\n",
    "    global EPS\n",
    "    # 初期化\n",
    "    B = A\n",
    "    U = np.eye(N)\n",
    "    OK = False\n",
    "    while(not OK):\n",
    "        # p, qを選ぶ\n",
    "        v = 0\n",
    "        for i in range(N):\n",
    "            for j in range(i+1, N):\n",
    "                if i == j:\n",
    "                    continue\n",
    "                elif v < abs(B[i][j]):\n",
    "                    p, q = i, j\n",
    "                    v = abs(B[i][j])\n",
    "        # 回転行列を作る\n",
    "        rot = np.eye(N)\n",
    "        if B[q][q]-B[p][p] == 0:\n",
    "            theta = np.pi/4  \n",
    "        else:\n",
    "            theta = 1/2*np.arctan(2*B[p][q]/(B[q][q]-B[p][p]))\n",
    "#         print(theta)\n",
    "        rot[p][p] = rot[q][q]  = np.cos(theta)\n",
    "        rot[q][p] = -np.sin(theta)\n",
    "        rot[p][q] = np.sin(theta)\n",
    "#         print(rot)\n",
    "        # 左から逆、右から普通にかける\n",
    "        B = np.transpose(rot)@B@rot\n",
    "\n",
    "        # 固有値の更新\n",
    "        U = U@rot\n",
    "\n",
    "        # 対角行列チェック, 誤差つぶし\n",
    "        OK = True\n",
    "        for i in range(N):\n",
    "            for j in range(i+1,N):\n",
    "                if i == j:\n",
    "                    continue\n",
    "                elif abs(B[i][j]) < EPS:\n",
    "                    B[i][j] = 0\n",
    "                    B[j][i] = 0\n",
    "                else:\n",
    "                    OK = False\n",
    "                    break\n",
    "            if not OK:\n",
    "                break\n",
    "#         print(B)\n",
    "        if OK:\n",
    "            return (B, U)"
   ]
  },
  {
   "cell_type": "code",
   "execution_count": 50,
   "metadata": {},
   "outputs": [
    {
     "name": "stdout",
     "output_type": "stream",
     "text": [
      "[[2.00000000e+00 0.00000000e+00 0.00000000e+00]\n",
      " [0.00000000e+00 5.00000000e+00 0.00000000e+00]\n",
      " [0.00000000e+00 0.00000000e+00 1.34015774e-16]]\n",
      "[[ 0.70710678  0.          0.70710678]\n",
      " [ 0.35355339  0.8660254  -0.35355339]\n",
      " [-0.61237244  0.5         0.61237244]]\n"
     ]
    }
   ],
   "source": [
    "A = np.array([[1, 1/2, -(3**0.5)/2], [1/2, 4, (3**0.5)], [-(3**0.5)/2, (3**0.5), 2]])\n",
    "EPS = 10e-9\n",
    "N = 3\n",
    "B, U = jacobi_method(A, N)\n",
    "print(B)\n",
    "print(U)"
   ]
  },
  {
   "cell_type": "code",
   "execution_count": 67,
   "metadata": {},
   "outputs": [
    {
     "data": {
      "text/plain": [
       "array([[6, 4, 1, 1],\n",
       "       [4, 6, 1, 1],\n",
       "       [1, 1, 5, 2],\n",
       "       [1, 1, 2, 5]])"
      ]
     },
     "execution_count": 67,
     "metadata": {},
     "output_type": "execute_result"
    }
   ],
   "source": [
    "# Householder \n",
    "N = 4\n",
    "A0 = np.array([[6, 4, 1, 1], [4, 6, 1, 1], [1, 1, 5, 2], [1, 1, 2, 5]])\n",
    "A = A0\n",
    "A"
   ]
  },
  {
   "cell_type": "code",
   "execution_count": 68,
   "metadata": {},
   "outputs": [],
   "source": [
    "def householder(A, N):\n",
    "    global EPS\n",
    "    for i in range(N-2):\n",
    "        # σの計算\n",
    "        sig = np.sqrt(sum([a**2 for a in A[i][i+1:]]))\n",
    "        debug(sig)\n",
    "\n",
    "        # v -> u , u-> Pの計算\n",
    "        v = [0 for _ in range(i+1)]\n",
    "        v += [a for a in A[i][i+1:]]\n",
    "        # 正なら正を足す、　負ならひく\n",
    "        v[i+1] = v[i+1] + sig if v[i+1] > 0 else v[i+1]-sig\n",
    "        v = np.array(v, ndmin=2)\n",
    "        v = np.reshape(v, (N,1))\n",
    "        debug(v)\n",
    "        u = v / np.linalg.norm(v)\n",
    "        debug(u)\n",
    "        P = np.eye(N) - 2*u@np.transpose(u)\n",
    "        debug(P)\n",
    "        p = 2*(A@u)\n",
    "        # K = ut@p, q = p - K@u\n",
    "        K = np.transpose(u)@p\n",
    "        debug(K)\n",
    "        q = p - K*u\n",
    "        debug(q)\n",
    "        A = A-q@np.transpose(u)-u@np.transpose(q)\n",
    "    for i in range(N):\n",
    "        for j in range(N):\n",
    "            if abs(A[i][j]) < EPS:\n",
    "                A[i][j] = 0\n",
    "    return A"
   ]
  },
  {
   "cell_type": "code",
   "execution_count": 69,
   "metadata": {},
   "outputs": [
    {
     "name": "stderr",
     "output_type": "stream",
     "text": [
      "sig = 4.242640687119285\n",
      "v = array([[0.        ],\n",
      "       [8.24264069],\n",
      "       [1.        ],\n",
      "       [1.        ]])\n",
      "u = array([[0.        ],\n",
      "       [0.98559856],\n",
      "       [0.11957316],\n",
      "       [0.11957316]])\n",
      "P = array([[ 1.        ,  0.        ,  0.        ,  0.        ],\n",
      "       [ 0.        , -0.94280904, -0.23570226, -0.23570226],\n",
      "       [ 0.        , -0.23570226,  0.97140452, -0.02859548],\n",
      "       [ 0.        , -0.23570226, -0.02859548,  0.97140452]])\n",
      "K = array([[13.]])\n",
      "q = array([[ 8.3630811 ],\n",
      "       [-0.50730594],\n",
      "       [ 2.09077028],\n",
      "       [ 2.09077028]])\n",
      "sig = 1.4142135623730954\n",
      "v = array([[ 0.        ],\n",
      "       [ 0.        ],\n",
      "       [-2.41421356],\n",
      "       [-1.        ]])\n",
      "u = array([[ 0.        ],\n",
      "       [ 0.        ],\n",
      "       [-0.92387953],\n",
      "       [-0.38268343]])\n",
      "P = array([[ 1.        ,  0.        ,  0.        ,  0.        ],\n",
      "       [ 0.        ,  1.        ,  0.        ,  0.        ],\n",
      "       [ 0.        ,  0.        , -0.70710678, -0.70710678],\n",
      "       [ 0.        ,  0.        , -0.70710678,  0.70710678]])\n",
      "K = array([[11.12132034]])\n",
      "q = array([[ 5.80230515e-16],\n",
      "       [ 2.61312593e+00],\n",
      "       [ 8.11794150e-01],\n",
      "       [-1.95984445e+00]])\n"
     ]
    },
    {
     "data": {
      "text/plain": [
       "array([[ 6.        , -4.24264069,  0.        ,  0.        ],\n",
       "       [-4.24264069,  7.        ,  1.41421356,  0.        ],\n",
       "       [ 0.        ,  1.41421356,  6.        ,  0.        ],\n",
       "       [ 0.        ,  0.        ,  0.        ,  3.        ]])"
      ]
     },
     "execution_count": 69,
     "metadata": {},
     "output_type": "execute_result"
    }
   ],
   "source": [
    "householder(A, N)"
   ]
  },
  {
   "cell_type": "code",
   "execution_count": 78,
   "metadata": {},
   "outputs": [
    {
     "name": "stderr",
     "output_type": "stream",
     "text": [
      "sig = 10.0\n",
      "v = array([[ 0.],\n",
      "       [16.],\n",
      "       [ 8.]])\n",
      "u = array([[0.        ],\n",
      "       [0.89442719],\n",
      "       [0.4472136 ]])\n",
      "P = array([[ 1. ,  0. ,  0. ],\n",
      "       [ 0. , -0.6, -0.8],\n",
      "       [ 0. , -0.8,  0.6]])\n",
      "K = array([[10.]])\n",
      "q = array([[17.88854382],\n",
      "       [ 0.        ],\n",
      "       [ 0.        ]])\n"
     ]
    },
    {
     "data": {
      "text/plain": [
       "array([[  5., -10.,   0.],\n",
       "       [-10.,   4.,   2.],\n",
       "       [  0.,   2.,   1.]])"
      ]
     },
     "execution_count": 78,
     "metadata": {},
     "output_type": "execute_result"
    }
   ],
   "source": [
    "A = np.array([[5, 6, 8], [6, 4, 2], [8,2,1]])\n",
    "N = 3\n",
    "R = householder(A, N)\n",
    "R"
   ]
  },
  {
   "cell_type": "code",
   "execution_count": 87,
   "metadata": {},
   "outputs": [
    {
     "name": "stdout",
     "output_type": "stream",
     "text": [
      "[[5.]]\n"
     ]
    },
    {
     "data": {
      "text/plain": [
       "1"
      ]
     },
     "execution_count": 87,
     "metadata": {},
     "output_type": "execute_result"
    }
   ],
   "source": [
    "print(R[:-2,:-2])\n",
    "len(R[:-2,:-2])"
   ]
  },
  {
   "cell_type": "code",
   "execution_count": 96,
   "metadata": {},
   "outputs": [
    {
     "data": {
      "text/latex": [
       "$\\displaystyle l^{3} - 10.0 l^{2} - 75.0 l + 100.0$"
      ],
      "text/plain": [
       "l**3 - 10.0*l**2 - 75.0*l + 100.0"
      ]
     },
     "execution_count": 96,
     "metadata": {},
     "output_type": "execute_result"
    }
   ],
   "source": [
    "# 固有多項式の更新\n",
    "l = symbols('l')\n",
    "def eigen_polynomial(i):\n",
    "    if i == 0:\n",
    "        return 1\n",
    "    elif i == 1:\n",
    "        return l-R[0][0]\n",
    "    else:\n",
    "        return (l-R[i-1][i-1])*eigen_polynomial(i-1) - (R[i-1][i-2]**2)*eigen_polynomial(i-2)\n",
    "eigen_polynomial(3).expand()"
   ]
  },
  {
   "cell_type": "code",
   "execution_count": null,
   "metadata": {},
   "outputs": [],
   "source": []
  }
 ],
 "metadata": {
  "kernelspec": {
   "display_name": "Python 3",
   "language": "python",
   "name": "python3"
  },
  "language_info": {
   "codemirror_mode": {
    "name": "ipython",
    "version": 3
   },
   "file_extension": ".py",
   "mimetype": "text/x-python",
   "name": "python",
   "nbconvert_exporter": "python",
   "pygments_lexer": "ipython3",
   "version": "3.7.0"
  }
 },
 "nbformat": 4,
 "nbformat_minor": 2
}
